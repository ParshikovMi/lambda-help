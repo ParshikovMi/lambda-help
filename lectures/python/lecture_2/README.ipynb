{
 "cells": [
  {
   "cell_type": "markdown",
   "metadata": {
    "slideshow": {
     "slide_type": "slide"
    }
   },
   "source": [
    "![](pics/presentation.png)"
   ]
  },
  {
   "cell_type": "markdown",
   "metadata": {
    "slideshow": {
     "slide_type": "slide"
    }
   },
   "source": [
    "# План на сегодня\n",
    "\n",
    "- инкрементирование\n",
    "- циклы\n",
    "- работа с файлами\n",
    "- синтаксический сахар"
   ]
  },
  {
   "cell_type": "markdown",
   "metadata": {
    "slideshow": {
     "slide_type": "subslide"
    }
   },
   "source": [
    "# Операторы ин- и декремента\n",
    "\n",
    "![](http://devhumor.com/content/uploads/images/October2017/increment.jpg)"
   ]
  },
  {
   "cell_type": "markdown",
   "metadata": {
    "slideshow": {
     "slide_type": "subslide"
    }
   },
   "source": [
    "Инкремент, инкрементирование (от англ. _increment_ «увеличение») — операция во многих языках программирования, увеличивающая переменную. Обратную операцию называют декремент (уменьшение).\n",
    "\n",
    "`i = i + 1`       <==>         `i += 1`     <==>         `i++`"
   ]
  },
  {
   "cell_type": "code",
   "execution_count": 1,
   "metadata": {
    "slideshow": {
     "slide_type": "-"
    }
   },
   "outputs": [
    {
     "name": "stdout",
     "output_type": "stream",
     "text": [
      "10\n",
      "5\n",
      "25\n",
      "5\n"
     ]
    }
   ],
   "source": [
    "a = 5\n",
    "\n",
    "a += 5\n",
    "print(a)\n",
    "\n",
    "a -= 5\n",
    "print(a)\n",
    "\n",
    "a *= 5\n",
    "print(a)\n",
    "\n",
    "a //= 5\n",
    "print(a)"
   ]
  },
  {
   "cell_type": "markdown",
   "metadata": {
    "slideshow": {
     "slide_type": "slide"
    }
   },
   "source": [
    "# Циклы\n",
    "\n",
    "> Цикл — разновидность управляющей конструкции, предназначенная для организации многократного исполнения набора инструкций."
   ]
  },
  {
   "cell_type": "markdown",
   "metadata": {
    "slideshow": {
     "slide_type": "slide"
    }
   },
   "source": [
    "## For – Цикл со счётчиком\n",
    "\n",
    "Цикл со счётчиком — цикл, в котором некоторая переменная изменяет своё значение от заданного начального значения до конечного значения с некоторым шагом, и для каждого значения этой переменной тело цикла выполняется один раз.\n",
    "\n",
    "Общий вид:\n",
    "```python\n",
    "for counter in range(start, stop, step):\n",
    "    expression\n",
    "```"
   ]
  },
  {
   "cell_type": "code",
   "execution_count": 3,
   "metadata": {
    "slideshow": {
     "slide_type": "-"
    }
   },
   "outputs": [
    {
     "name": "stdout",
     "output_type": "stream",
     "text": [
      "1\n",
      "2\n",
      "3\n",
      "4\n"
     ]
    }
   ],
   "source": [
    "# пример\n",
    "for i in range(1,5):\n",
    "    print(i)"
   ]
  },
  {
   "cell_type": "markdown",
   "metadata": {
    "slideshow": {
     "slide_type": "subslide"
    }
   },
   "source": [
    "Еще один вид циклов со счетчиками – [совместные циклы](https://ru.wikipedia.org/wiki/%D0%A6%D0%B8%D0%BA%D0%BB_(%D0%BF%D1%80%D0%BE%D0%B3%D1%80%D0%B0%D0%BC%D0%BC%D0%B8%D1%80%D0%BE%D0%B2%D0%B0%D0%BD%D0%B8%D0%B5)). Такой цикл задает выполнение некоторой операции для объектов из заданного множества, без явного указания порядка перечисления этих объектов. Такие циклы называются совместными (а также циклами по коллекции, циклами просмотра) и представляют собой формальную запись инструкции вида: «Выполнить операцию `X` для всех элементов, входящих во множество `M`».\n",
    "\n",
    "Общий вид:\n",
    "\n",
    "```python\n",
    "for item in iterable:\n",
    "    expression\n",
    "```\n",
    "Где `iterable` – итерируемый объект (коллекция). В роли такого объекта могут выступать строки (`str`), списки (`list`), кортежи (`tuple`), а также любой [класс, объявленный с методом `__iter__()`](https://docs.python.org/3/glossary.html#iterable) (об этом в других лекциях)."
   ]
  },
  {
   "cell_type": "code",
   "execution_count": 4,
   "metadata": {
    "slideshow": {
     "slide_type": "-"
    }
   },
   "outputs": [
    {
     "name": "stdout",
     "output_type": "stream",
     "text": [
      "МАИ - это я\n",
      "МАИ - это мы\n",
      "МАИ - это лучшие люди страны\n"
     ]
    }
   ],
   "source": [
    "# пример на списке\n",
    "MAI = ['я', 'мы', 'лучшие люди страны']\n",
    "\n",
    "for people in MAI:\n",
    "    print(f'МАИ - это {people}')"
   ]
  },
  {
   "cell_type": "code",
   "execution_count": 5,
   "metadata": {
    "slideshow": {
     "slide_type": "skip"
    }
   },
   "outputs": [
    {
     "name": "stdout",
     "output_type": "stream",
     "text": [
      "я\n",
      "мы\n",
      "лучшие люди страны\n"
     ]
    },
    {
     "data": {
      "text/plain": [
       "[None, None, None]"
      ]
     },
     "execution_count": 5,
     "metadata": {},
     "output_type": "execute_result"
    }
   ],
   "source": [
    "# жуткие вещи, дальше объясняются\n",
    "list(map(lambda word: print(word), MAI))"
   ]
  },
  {
   "cell_type": "markdown",
   "metadata": {
    "slideshow": {
     "slide_type": "subslide"
    }
   },
   "source": [
    "Можно итерироваться по строке"
   ]
  },
  {
   "cell_type": "code",
   "execution_count": 29,
   "metadata": {
    "slideshow": {
     "slide_type": "-"
    }
   },
   "outputs": [
    {
     "name": "stdout",
     "output_type": "stream",
     "text": [
      "l\n",
      "o\n",
      "n\n",
      "g\n",
      "_\n",
      "w\n",
      "o\n",
      "r\n",
      "d\n"
     ]
    }
   ],
   "source": [
    "for letter in 'long_word':\n",
    "    print(letter)"
   ]
  },
  {
   "cell_type": "markdown",
   "metadata": {
    "slideshow": {
     "slide_type": "subslide"
    }
   },
   "source": [
    "Также можно итерироваться по числовой последовательности"
   ]
  },
  {
   "cell_type": "code",
   "execution_count": 2,
   "metadata": {
    "slideshow": {
     "slide_type": "-"
    }
   },
   "outputs": [
    {
     "name": "stdout",
     "output_type": "stream",
     "text": [
      "1 muffins\n",
      "2 muffins\n",
      "3 muffins\n",
      "4 muffins\n"
     ]
    }
   ],
   "source": [
    "for i in range(1, 5):\n",
    "    print(f'{i} muffins')"
   ]
  },
  {
   "cell_type": "markdown",
   "metadata": {
    "slideshow": {
     "slide_type": "subslide"
    }
   },
   "source": [
    "Если хочется внутри цикла обращаться к элементам коллекции по их индексам, можно использовать следующую конструкцию:\n",
    "\n",
    "```python\n",
    "X = range(1, 100, 2)\n",
    "\n",
    "for i in range( len(X) ):\n",
    "    print( X[i] )\n",
    "```\n",
    "\n",
    "Что тут произошло?\n",
    "- X – список из некоторых данных\n",
    "- `len(X)` - функция, возвращающая длину списка\n",
    "- `range(len(X))` - создает коллекцию из индексов списка X\n",
    "- `X[i]` - обращение к i-тому элементу коллекции\n",
    "\n",
    "Такой метод итерации считается не очень красивым, логичным и не подходит под Python-way. Раз есть более элегантные способы итерации, то для поддержки читаемого кода рекомендуется использовать их."
   ]
  },
  {
   "cell_type": "markdown",
   "metadata": {
    "slideshow": {
     "slide_type": "subslide"
    }
   },
   "source": [
    "Команда `enumerate(list)` принимает в качестве аргумента коллекцию (список) и возвращает список кортежей, каждый из которых содержит индекс элемента и его содержимое. "
   ]
  },
  {
   "cell_type": "code",
   "execution_count": 3,
   "metadata": {
    "slideshow": {
     "slide_type": "-"
    }
   },
   "outputs": [
    {
     "data": {
      "text/plain": [
       "[(0, 'я'), (1, 'мы'), (2, 'лучшие люди страны')]"
      ]
     },
     "execution_count": 3,
     "metadata": {},
     "output_type": "execute_result"
    }
   ],
   "source": [
    "list(enumerate(MAI))"
   ]
  },
  {
   "cell_type": "markdown",
   "metadata": {
    "slideshow": {
     "slide_type": "fragment"
    }
   },
   "source": [
    "Итерация по одной переменной `people` в таком случае будет возвращать те самые кортежи:"
   ]
  },
  {
   "cell_type": "code",
   "execution_count": 32,
   "metadata": {
    "slideshow": {
     "slide_type": "-"
    }
   },
   "outputs": [
    {
     "name": "stdout",
     "output_type": "stream",
     "text": [
      "(0, 'я')\n",
      "(1, 'мы')\n",
      "(2, 'лучшие люди страны')\n"
     ]
    }
   ],
   "source": [
    "for people in enumerate(MAI):\n",
    "    print(people)"
   ]
  },
  {
   "cell_type": "markdown",
   "metadata": {
    "slideshow": {
     "slide_type": "fragment"
    }
   },
   "source": [
    "Если же надо \"распаковать\" кортежи, то можно перечислить итерируемые переменные через запятую:"
   ]
  },
  {
   "cell_type": "code",
   "execution_count": 6,
   "metadata": {
    "slideshow": {
     "slide_type": "-"
    }
   },
   "outputs": [
    {
     "name": "stdout",
     "output_type": "stream",
     "text": [
      "index = 0, value = я\n",
      "index = 1, value = мы\n",
      "index = 2, value = лучшие люди страны\n"
     ]
    }
   ],
   "source": [
    "for index, value in enumerate(MAI):\n",
    "        print(f'index = {index}, value = {value}')"
   ]
  },
  {
   "cell_type": "markdown",
   "metadata": {
    "slideshow": {
     "slide_type": "subslide"
    }
   },
   "source": [
    "Однако на практике, скорее всего захочется итерироваться по содержимому одновременно нескольких коллекций, например по списку фамилий студентов и групп, в которых они учатся (**важно** – коллекции должны иметь одинаковую размерность). Если мы просто перечислим желаемые коллекции через запятую, то интерпретатор нас не одобрит:"
   ]
  },
  {
   "cell_type": "code",
   "execution_count": 8,
   "metadata": {
    "slideshow": {
     "slide_type": "-"
    }
   },
   "outputs": [
    {
     "ename": "ValueError",
     "evalue": "too many values to unpack (expected 2)",
     "output_type": "error",
     "traceback": [
      "\u001b[1;31m---------------------------------------------------------------------------\u001b[0m",
      "\u001b[1;31mValueError\u001b[0m                                Traceback (most recent call last)",
      "\u001b[1;32m<ipython-input-8-f328d3f97fa9>\u001b[0m in \u001b[0;36m<module>\u001b[1;34m()\u001b[0m\n\u001b[0;32m      1\u001b[0m \u001b[0mMAI\u001b[0m \u001b[1;33m=\u001b[0m \u001b[1;33m{\u001b[0m\u001b[1;36m1\u001b[0m\u001b[1;33m:\u001b[0m\u001b[1;34m'авиастроение'\u001b[0m\u001b[1;33m,\u001b[0m \u001b[1;34m'инжэкин'\u001b[0m\u001b[1;33m:\u001b[0m\u001b[1;36m5\u001b[0m\u001b[1;33m,\u001b[0m \u001b[1;36m9\u001b[0m\u001b[1;33m:\u001b[0m\u001b[1;34m'прикладная механика'\u001b[0m\u001b[1;33m}\u001b[0m\u001b[1;33m\u001b[0m\u001b[0m\n\u001b[0;32m      2\u001b[0m \u001b[1;33m\u001b[0m\u001b[0m\n\u001b[1;32m----> 3\u001b[1;33m \u001b[1;32mfor\u001b[0m \u001b[0mkey\u001b[0m\u001b[1;33m,\u001b[0m \u001b[0mvalue\u001b[0m \u001b[1;32min\u001b[0m \u001b[0mMAI\u001b[0m\u001b[1;33m.\u001b[0m\u001b[0mkeys\u001b[0m\u001b[1;33m(\u001b[0m\u001b[1;33m)\u001b[0m\u001b[1;33m,\u001b[0m \u001b[0mMAI\u001b[0m\u001b[1;33m.\u001b[0m\u001b[0mvalues\u001b[0m\u001b[1;33m(\u001b[0m\u001b[1;33m)\u001b[0m\u001b[1;33m:\u001b[0m\u001b[1;33m\u001b[0m\u001b[0m\n\u001b[0m\u001b[0;32m      4\u001b[0m     \u001b[0mprint\u001b[0m\u001b[1;33m(\u001b[0m\u001b[1;34m'ключ \"{0}\"\\t со значением \"{1}\"'\u001b[0m\u001b[1;33m.\u001b[0m\u001b[0mformat\u001b[0m\u001b[1;33m(\u001b[0m\u001b[0mkey\u001b[0m\u001b[1;33m,\u001b[0m \u001b[0mvalue\u001b[0m\u001b[1;33m)\u001b[0m\u001b[1;33m)\u001b[0m\u001b[1;33m\u001b[0m\u001b[0m\n",
      "\u001b[1;31mValueError\u001b[0m: too many values to unpack (expected 2)"
     ]
    }
   ],
   "source": [
    "MAI = {1:'авиастроение', 'инжэкин':5, 9:'прикладная механика'}\n",
    "\n",
    "for key, value in MAI.keys(), MAI.values():\n",
    "    print('ключ \"{0}\"\\t со значением \"{1}\"'.format(key, value))"
   ]
  },
  {
   "cell_type": "markdown",
   "metadata": {
    "slideshow": {
     "slide_type": "subslide"
    }
   },
   "source": [
    "Это связано с тем, что объект, по которому происходит итерация **должен быть один**.\n",
    "\n",
    "Что же делать?\n",
    "\n",
    "Здесь на помощь приходит команда `zip()`, которая \"упаковывает\" две коллекции в одну для совместной итерации."
   ]
  },
  {
   "cell_type": "code",
   "execution_count": 14,
   "metadata": {
    "slideshow": {
     "slide_type": "fragment"
    }
   },
   "outputs": [
    {
     "name": "stdout",
     "output_type": "stream",
     "text": [
      "\n",
      "    Ключи = dict_keys([1, 'инжэкин', 9]),\n",
      "\n",
      "    Значения = dict_values(['авиастроение', 5, 'прикладная механика']),\n",
      "\n",
      "    Вместе = [(1, 'авиастроение'), ('инжэкин', 5), (9, 'прикладная механика')]\n",
      "    \n"
     ]
    }
   ],
   "source": [
    "print(f\"\"\"\n",
    "    Ключи = { MAI.keys() },\\n\n",
    "    Значения = { MAI.values() },\\n\n",
    "    Вместе = { list(zip(MAI.keys(), MAI.values())) }\n",
    "    \"\"\"\n",
    ")"
   ]
  },
  {
   "cell_type": "code",
   "execution_count": 15,
   "metadata": {
    "slideshow": {
     "slide_type": "fragment"
    }
   },
   "outputs": [
    {
     "name": "stdout",
     "output_type": "stream",
     "text": [
      "ключ \"1\"\t со значением \"авиастроение\"\n",
      "ключ \"инжэкин\"\t со значением \"5\"\n",
      "ключ \"9\"\t со значением \"прикладная механика\"\n"
     ]
    }
   ],
   "source": [
    "for key, value in zip(MAI.keys(), MAI.values()):\n",
    "    print('ключ \"{0}\"\\t со значением \"{1}\"'.format(key, value))"
   ]
  },
  {
   "cell_type": "markdown",
   "metadata": {
    "slideshow": {
     "slide_type": "slide"
    }
   },
   "source": [
    "## While – Цикл с предусловием\n",
    "\n",
    "Цикл с предусловием — цикл, который выполняется, пока истинно некоторое условие, указанное перед его началом. Это условие проверяется **до** выполнения тела цикла, поэтому тело может быть не выполнено ни разу (если условие с самого начала ложно).\n",
    "\n",
    "```python\n",
    "while condition:\n",
    "    loop_body\n",
    "```"
   ]
  },
  {
   "cell_type": "markdown",
   "metadata": {
    "slideshow": {
     "slide_type": "subslide"
    }
   },
   "source": [
    "Общий вид (аналог функции $\\displaystyle s=\\sum_{i=1}^{100} i^2$)"
   ]
  },
  {
   "cell_type": "code",
   "execution_count": 4,
   "metadata": {
    "slideshow": {
     "slide_type": "-"
    }
   },
   "outputs": [
    {
     "name": "stdout",
     "output_type": "stream",
     "text": [
      "338350\n"
     ]
    }
   ],
   "source": [
    "s = 0\n",
    "i = 1\n",
    "\n",
    "while i <= 100:\n",
    "    s += i**2\n",
    "    i += 1\n",
    "\n",
    "print(s)"
   ]
  },
  {
   "cell_type": "markdown",
   "metadata": {
    "slideshow": {
     "slide_type": "subslide"
    }
   },
   "source": [
    "Вечный цикл\n",
    "\n",
    "```python\n",
    "while 1:\n",
    "    pass\n",
    "```"
   ]
  },
  {
   "cell_type": "markdown",
   "metadata": {
    "slideshow": {
     "slide_type": "subslide"
    }
   },
   "source": [
    "### _task_\n",
    "\n",
    "Чему будет равна переменная i ?\n",
    "\n",
    "```python\n",
    "i = 0\n",
    "while i <= 10:\n",
    "    i += 1\n",
    "    if i > 7:\n",
    "        i += 2\n",
    "```"
   ]
  },
  {
   "cell_type": "markdown",
   "metadata": {
    "slideshow": {
     "slide_type": "fragment"
    }
   },
   "source": [
    "Ответ: __13__"
   ]
  },
  {
   "cell_type": "markdown",
   "metadata": {
    "slideshow": {
     "slide_type": "subslide"
    }
   },
   "source": [
    "## Операторы `break` и `continue`\n",
    "\n",
    "### `break` – Досрочный выход из цикла\n",
    "Команда досрочного выхода применяется, когда необходимо прервать выполнение цикла, в котором условие выхода ещё не достигнуто. Такое бывает, например, когда при выполнении тела цикла обнаруживается ошибка, после которой дальнейшая работа цикла не имеет смысла. Её действие аналогично действию команды безусловного перехода (`goto`) на команду, непосредственно следующую за циклом, внутри которого эта команда находится. Но так как использовать оператор `goto` – все равно, что поклоняться темным силам, в Python есть более элегантные способы выхода из цикла, которые будут рассмотрены позже.\n",
    "\n",
    "### `continue` – Пропуск итерации\n",
    "Данный оператор применяется, когда в текущей итерации цикла необходимо пропустить все команды до конца тела цикла. При этом сам цикл прерываться не должен, условия продолжения или выхода должны вычисляться обычным образом.\n",
    "\n",
    "```python\n",
    "i = 0\n",
    "while i < 20:\n",
    "    i += 1\n",
    "    if i < 5:\n",
    "        continue\n",
    "    elif i == 10:\n",
    "        break\n",
    "```"
   ]
  },
  {
   "cell_type": "markdown",
   "metadata": {
    "slideshow": {
     "slide_type": "slide"
    }
   },
   "source": [
    "# Работа с файлами\n",
    "\n",
    "```python\n",
    "file = open('file.txt', 'w', encoding='utf8')\n",
    "```\n",
    "1. (абсолютный / относительный путь к файлу) + имя файла\n",
    "2. режим работы\n",
    "    - `r` - read (чтение)\n",
    "    - `w` - write (запись)\n",
    "    - `a` - append (добавление в конец)\n",
    "3. кодировка символов в текстовых файлах: _`utf8`_, _`ascii`_, _`cp1251`_"
   ]
  },
  {
   "cell_type": "code",
   "execution_count": 18,
   "metadata": {
    "slideshow": {
     "slide_type": "fragment"
    }
   },
   "outputs": [
    {
     "name": "stdout",
     "output_type": "stream",
     "text": [
      "hello\n",
      "\n"
     ]
    }
   ],
   "source": [
    "file = open('file.txt', 'w')  # открываем файл на запись\n",
    "file.write('hello\\n')  # записываем некоторое содержимое\n",
    "file.close()  # закрываем файл (обязательно)\n",
    "\n",
    "file = open('file.txt', 'r')  # открываем файл на чтение\n",
    "print(file.readline())  # метод readline() читает одну строку\n",
    "file.close()  # закрываем файл"
   ]
  },
  {
   "cell_type": "code",
   "execution_count": 20,
   "metadata": {
    "slideshow": {
     "slide_type": "subslide"
    }
   },
   "outputs": [
    {
     "name": "stdout",
     "output_type": "stream",
     "text": [
      "hello\n",
      "lorem ipsum\n",
      "hello world\n",
      "\n"
     ]
    }
   ],
   "source": [
    "file = open('file.txt', 'a')  # открываем файл на добавление\n",
    "file.write('lorem ipsum\\n')  # добавляем одну строку\n",
    "file.write('hello world\\n')  # добавляем другую строку\n",
    "file.close()  # закрываем файл (обязательно)\n",
    "\n",
    "file = open('file.txt', 'r')  # открываем файл на чтение\n",
    "line = file.read()  # метод read() читает файл полностью\n",
    "file.close()  # закрываем файл (обязательно)\n",
    "\n",
    "print(line)"
   ]
  },
  {
   "cell_type": "code",
   "execution_count": 21,
   "metadata": {
    "slideshow": {
     "slide_type": "subslide"
    }
   },
   "outputs": [
    {
     "name": "stdout",
     "output_type": "stream",
     "text": [
      "hello\n",
      "lore\n"
     ]
    }
   ],
   "source": [
    "file = open('file.txt', 'r')\n",
    "# целочисленный аргумент этого метода позволяет \n",
    "# прочитать определенное количество символов\n",
    "line = file.read(10)\n",
    "file.close()\n",
    "\n",
    "print(line)"
   ]
  },
  {
   "cell_type": "markdown",
   "metadata": {
    "slideshow": {
     "slide_type": "subslide"
    }
   },
   "source": [
    "Если хочется общаться с файлом подольше, можно открыть поток работы с ним через конструкцию\n",
    "\n",
    "```python\n",
    "with open() as text:\n",
    "    some_actions_w_text\n",
    "```"
   ]
  },
  {
   "cell_type": "code",
   "execution_count": 39,
   "metadata": {
    "slideshow": {
     "slide_type": "-"
    }
   },
   "outputs": [
    {
     "name": "stdout",
     "output_type": "stream",
     "text": [
      "Lorem ipsum dolor sit amet, consectetur adipiscing elit,\n",
      "\n",
      "sed do eiusmod tempor incididunt ut labore et dolore magna aliqua.\n",
      "\n",
      "Ut enim ad minim veniam, quis nostrud exercitation ullamco laboris\n",
      "\n",
      "nisi ut aliquip ex ea commodo consequat. Duis aute irure dolor\n",
      "\n",
      "in reprehenderit in voluptate velit esse cillum dolore eu fugiat\n",
      "\n",
      "nulla pariatur. Excepteur sint occaecat cupidatat non proident,\n",
      "\n",
      "sunt in culpa qui officia deserunt mollit anim id est laborum.\n",
      "\n"
     ]
    }
   ],
   "source": [
    "with open('lambda.txt', 'r') as text:\n",
    "    for line in text:\n",
    "        print(line)"
   ]
  },
  {
   "cell_type": "markdown",
   "metadata": {
    "slideshow": {
     "slide_type": "subslide"
    }
   },
   "source": [
    "### task\n",
    "\n",
    "Скачать себе файлик [`lambda.txt`](https://raw.githubusercontent.com/lambdafrela/lambda-help/master/lectures/python/lecture_2/lambda.txt), открыть в той же директории интерпретатор Python. Вывести из файла lambda.txt слова, начинающиеся с букв `a` или `u`"
   ]
  },
  {
   "cell_type": "code",
   "execution_count": 40,
   "metadata": {
    "slideshow": {
     "slide_type": "fragment"
    }
   },
   "outputs": [
    {
     "name": "stdout",
     "output_type": "stream",
     "text": [
      "amet,\n",
      "adipiscing\n",
      "ut\n",
      "aliqua.\n",
      "ad\n",
      "ullamco\n",
      "ut\n",
      "aliquip\n",
      "aute\n",
      "anim\n"
     ]
    }
   ],
   "source": [
    "with open('lambda.txt', 'r') as text:\n",
    "    for line in text:\n",
    "        for word in line.split():\n",
    "            if word[0] == 'a' or word[0] == 'u':\n",
    "                print(word)\n",
    "            else:\n",
    "                continue"
   ]
  },
  {
   "cell_type": "markdown",
   "metadata": {
    "slideshow": {
     "slide_type": "slide"
    }
   },
   "source": [
    "# Функциональное программирование"
   ]
  },
  {
   "cell_type": "markdown",
   "metadata": {
    "slideshow": {
     "slide_type": "slide"
    }
   },
   "source": [
    "## Лямбда-выражения\n",
    "\n",
    "Они же анонимные функции, они же \"О БОЖЕ, КАК Я ЭТО МОГ НАПИСАТЬ\". Удобны для определения не очень сложных функций, которые передаются затем другим функциям.\n",
    "\n",
    "Общий вид:\n",
    "```python\n",
    "lambda variable_1, variable_2: expression_with_variables\n",
    "```\n",
    "\n",
    "Конструкция выше является эквивалентной обычной функции:\n",
    "```python\n",
    "def my_func(variable_1, variable_2):\n",
    "    return expression_with_variables\n",
    "```\n",
    "\n",
    "Принцип анонимности выражается в нежелательности присваивания лямбда-выражениям именных меток. Объявил - использовал - забыл. Если функция должна применяться много раз _рекомендуется_ оформить её в классическую `def` конструкцию."
   ]
  },
  {
   "cell_type": "code",
   "execution_count": 27,
   "metadata": {
    "slideshow": {
     "slide_type": "fragment"
    }
   },
   "outputs": [
    {
     "data": {
      "text/plain": [
       "7"
      ]
     },
     "execution_count": 27,
     "metadata": {},
     "output_type": "execute_result"
    }
   ],
   "source": [
    "# объявления лямбда-выражения с моментальным применением\n",
    "(lambda x: x+2)(5)"
   ]
  },
  {
   "cell_type": "markdown",
   "metadata": {
    "slideshow": {
     "slide_type": "subslide"
    }
   },
   "source": [
    "Для применения лямбда-функции (а также любых других функций) к элементам списка используется команда `map()`\n",
    "\n",
    "Общий вид:\n",
    "```python\n",
    "map(lambda variable: expression_w_variable, iterable)\n",
    "```\n",
    "или, если задана функция `my_func`:\n",
    "```python\n",
    "map(my_func, iterable)\n",
    "```\n",
    "\n",
    "Используется, когда ваще не хочется применять цикл `for` или результатом выполнения должна стать коллекция, передающаяся дальше в другие функции."
   ]
  },
  {
   "cell_type": "code",
   "execution_count": 26,
   "metadata": {
    "slideshow": {
     "slide_type": "fragment"
    }
   },
   "outputs": [
    {
     "data": {
      "text/plain": [
       "['МАИ - это я', 'МАИ - это мы', 'МАИ - это лучшие люди страны']"
      ]
     },
     "execution_count": 26,
     "metadata": {},
     "output_type": "execute_result"
    }
   ],
   "source": [
    "MAI = ['я','мы','лучшие люди страны']\n",
    "\n",
    "list(map( lambda who: f'МАИ - это {who}', MAI ))"
   ]
  },
  {
   "cell_type": "markdown",
   "metadata": {
    "slideshow": {
     "slide_type": "subslide"
    }
   },
   "source": [
    "страшный пример из реальной жизни (пожалуйста, **никогда** не делайте так, если хотите использовать код в будущем)\n",
    "\n",
    "```python\n",
    "sigmoid = lambda y: 1. / (1 + np.exp(-y))\n",
    "\n",
    "log_loss_from_staged_decision = lambda staged_decision, y: map(lambda pred: log_loss(y, pred), map(sigmoid, staged_decision))\n",
    "    \n",
    "get_train_loss = lambda lr, X, y: log_loss_from_staged_decision(get_clf(lr).staged_decision_function(X), y)\n",
    "\n",
    "learning_rates = [1, 0.5, 0.3, 0.2, 0.1]\n",
    "\n",
    "train_losses = map(lambda lr: get_train_loss(lr, X_train, y_train), learning_rates)\n",
    "\n",
    "test_losses = map(lambda lr: get_train_loss(lr, X_test, y_test), learning_rates)\n",
    "\n",
    "map(plot_graphs, train_losses, test_losses, learning_rates)\n",
    "```"
   ]
  },
  {
   "cell_type": "markdown",
   "metadata": {
    "slideshow": {
     "slide_type": "subslide"
    }
   },
   "source": [
    "![y u no](https://i.ytimg.com/vi/Fr8itGELygc/hqdefault.jpg)"
   ]
  },
  {
   "cell_type": "markdown",
   "metadata": {
    "slideshow": {
     "slide_type": "subslide"
    }
   },
   "source": [
    "### task\n",
    "\n",
    "Что делает эта строчка?\n",
    "\n",
    "```python\n",
    "data['Sex'] = data['Sex'].map(lambda x: 1 if x == 'M' else (-1 if x == 'F' else 0))\n",
    "```"
   ]
  },
  {
   "cell_type": "markdown",
   "metadata": {
    "slideshow": {
     "slide_type": "slide"
    }
   },
   "source": [
    "## Компоновки / списковые включения (Listing Comprehensions)"
   ]
  },
  {
   "cell_type": "markdown",
   "metadata": {
    "slideshow": {
     "slide_type": "skip"
    }
   },
   "source": [
    "Наиболее выразительное из функциональных средств Python. Например, для вычисления списка квадратов положительных целых чисел, меньших 10, можно написать обычную функцию:"
   ]
  },
  {
   "cell_type": "code",
   "execution_count": 31,
   "metadata": {
    "slideshow": {
     "slide_type": "fragment"
    }
   },
   "outputs": [
    {
     "name": "stdout",
     "output_type": "stream",
     "text": [
      "1\n",
      "4\n",
      "9\n",
      "16\n",
      "25\n",
      "36\n",
      "49\n",
      "64\n",
      "81\n"
     ]
    }
   ],
   "source": [
    "def sqares(l):\n",
    "    for x in l:\n",
    "        print(x**2)\n",
    "\n",
    "sqares(range(1, 10))"
   ]
  },
  {
   "cell_type": "markdown",
   "metadata": {
    "slideshow": {
     "slide_type": "skip"
    }
   },
   "source": [
    "а можно в одну строчку с помощью компоновок:"
   ]
  },
  {
   "cell_type": "code",
   "execution_count": 44,
   "metadata": {
    "slideshow": {
     "slide_type": "fragment"
    }
   },
   "outputs": [
    {
     "data": {
      "text/plain": [
       "[1, 4, 9, 16, 25, 36, 49, 64, 81]"
      ]
     },
     "execution_count": 44,
     "metadata": {},
     "output_type": "execute_result"
    }
   ],
   "source": [
    "[x**2 for x in range(1, 10)]"
   ]
  },
  {
   "cell_type": "markdown",
   "metadata": {
    "slideshow": {
     "slide_type": "subslide"
    }
   },
   "source": [
    "### task\n",
    "\n",
    "Написать ту же функцию, но с использованием лямбда-функций"
   ]
  },
  {
   "cell_type": "code",
   "execution_count": 45,
   "metadata": {
    "slideshow": {
     "slide_type": "fragment"
    }
   },
   "outputs": [
    {
     "data": {
      "text/plain": [
       "[1, 4, 9, 16, 25, 36, 49, 64, 81]"
      ]
     },
     "execution_count": 45,
     "metadata": {},
     "output_type": "execute_result"
    }
   ],
   "source": [
    "list(map(lambda x: x**2, range(1,10)))"
   ]
  },
  {
   "cell_type": "markdown",
   "metadata": {
    "slideshow": {
     "slide_type": "slide"
    }
   },
   "source": [
    "# ДЗ\n",
    "\n",
    "2. [Coding Bat Lists 1](http://codingbat.com/python/List-1) - задания на списки попроще\n",
    "3. [Coding Bat Lists 2](http://codingbat.com/python/List-2) - задания на списки посложнее"
   ]
  },
  {
   "cell_type": "markdown",
   "metadata": {
    "slideshow": {
     "slide_type": "slide"
    }
   },
   "source": [
    "## в следующий раз\n",
    "\n",
    "- исключения\n",
    "- ПРАКТИЧЕСКОЕ ЗАНЯТИЕ"
   ]
  },
  {
   "cell_type": "markdown",
   "metadata": {},
   "source": [
    "# референс\n",
    "\n",
    "- [Хорошая статья про функциональное программирование с примерами](https://ru.wikipedia.org/wiki/%D0%A4%D1%83%D0%BD%D0%BA%D1%86%D0%B8%D0%BE%D0%BD%D0%B0%D0%BB%D1%8C%D0%BD%D0%BE%D0%B5_%D0%BF%D1%80%D0%BE%D0%B3%D1%80%D0%B0%D0%BC%D0%BC%D0%B8%D1%80%D0%BE%D0%B2%D0%B0%D0%BD%D0%B8%D0%B5_%D0%BD%D0%B0_Python)\n",
    "- [Страшные примеры компоновок](https://en.wikipedia.org/wiki/List_comprehension)\n",
    "- [Еще немного страшных примеров на русском](https://habrahabr.ru/post/30232/)"
   ]
  }
 ],
 "metadata": {
  "celltoolbar": "Slideshow",
  "kernelspec": {
   "display_name": "Python 3",
   "language": "python",
   "name": "python3"
  },
  "language_info": {
   "codemirror_mode": {
    "name": "ipython",
    "version": 3
   },
   "file_extension": ".py",
   "mimetype": "text/x-python",
   "name": "python",
   "nbconvert_exporter": "python",
   "pygments_lexer": "ipython3",
   "version": "3.6.1"
  }
 },
 "nbformat": 4,
 "nbformat_minor": 1
}
