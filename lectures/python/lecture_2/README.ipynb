{
 "cells": [
  {
   "cell_type": "markdown",
   "metadata": {
    "slideshow": {
     "slide_type": "slide"
    }
   },
   "source": [
    "![](pics/presentation.png)"
   ]
  },
  {
   "cell_type": "markdown",
   "metadata": {
    "slideshow": {
     "slide_type": "slide"
    }
   },
   "source": [
    "# План на сегодня\n",
    "\n",
    "- инкрементирование\n",
    "- наборы данных\n",
    "- циклы\n",
    "- работа с файлами\n",
    "- синтаксический сахар"
   ]
  },
  {
   "cell_type": "markdown",
   "metadata": {
    "slideshow": {
     "slide_type": "subslide"
    }
   },
   "source": [
    "# Операторы ин- и декремента\n",
    "\n",
    "![](http://devhumor.com/content/uploads/images/October2017/increment.jpg)"
   ]
  },
  {
   "cell_type": "markdown",
   "metadata": {
    "slideshow": {
     "slide_type": "subslide"
    }
   },
   "source": [
    "`i += 1`     <==>         `i = i + 1`       <==>         `i++`"
   ]
  },
  {
   "cell_type": "code",
   "execution_count": 1,
   "metadata": {
    "slideshow": {
     "slide_type": "-"
    }
   },
   "outputs": [
    {
     "name": "stdout",
     "output_type": "stream",
     "text": [
      "10\n",
      "5\n",
      "25\n",
      "5\n"
     ]
    }
   ],
   "source": [
    "a = 5\n",
    "\n",
    "a += 5\n",
    "print(a)\n",
    "\n",
    "a -= 5\n",
    "print(a)\n",
    "\n",
    "a *= 5\n",
    "print(a)\n",
    "\n",
    "a //= 5\n",
    "print(a)"
   ]
  },
  {
   "cell_type": "markdown",
   "metadata": {
    "slideshow": {
     "slide_type": "slide"
    }
   },
   "source": [
    "# Циклы"
   ]
  },
  {
   "cell_type": "markdown",
   "metadata": {
    "slideshow": {
     "slide_type": "slide"
    }
   },
   "source": [
    "## For\n",
    "\n",
    "Общий вид:\n",
    "```python\n",
    "for item in iterable:\n",
    "    expression\n",
    "```"
   ]
  },
  {
   "cell_type": "code",
   "execution_count": 7,
   "metadata": {
    "slideshow": {
     "slide_type": "subslide"
    }
   },
   "outputs": [
    {
     "name": "stdout",
     "output_type": "stream",
     "text": [
      "МАИ - это я\n",
      "МАИ - это мы\n",
      "МАИ - это лучшие люди страны\n"
     ]
    }
   ],
   "source": [
    "MAI = ['я', 'мы', 'лучшие люди страны']\n",
    "\n",
    "for people in MAI:\n",
    "    print(f'МАИ - это {people}')"
   ]
  },
  {
   "cell_type": "code",
   "execution_count": 8,
   "metadata": {},
   "outputs": [
    {
     "name": "stdout",
     "output_type": "stream",
     "text": [
      "я\n",
      "мы\n",
      "лучшие люди страны\n"
     ]
    },
    {
     "data": {
      "text/plain": [
       "[None, None, None]"
      ]
     },
     "execution_count": 8,
     "metadata": {},
     "output_type": "execute_result"
    }
   ],
   "source": [
    "list(map(lambda word: print(word), MAI))"
   ]
  },
  {
   "cell_type": "markdown",
   "metadata": {
    "slideshow": {
     "slide_type": "subslide"
    }
   },
   "source": [
    "можно итерироваться по строке"
   ]
  },
  {
   "cell_type": "code",
   "execution_count": 29,
   "metadata": {
    "slideshow": {
     "slide_type": "-"
    }
   },
   "outputs": [
    {
     "name": "stdout",
     "output_type": "stream",
     "text": [
      "l\n",
      "o\n",
      "n\n",
      "g\n",
      "_\n",
      "w\n",
      "o\n",
      "r\n",
      "d\n"
     ]
    }
   ],
   "source": [
    "for letter in 'long_word':\n",
    "    print(letter)"
   ]
  },
  {
   "cell_type": "markdown",
   "metadata": {
    "slideshow": {
     "slide_type": "subslide"
    }
   },
   "source": [
    "также можно итерироваться по числовой последовательности"
   ]
  },
  {
   "cell_type": "code",
   "execution_count": 2,
   "metadata": {},
   "outputs": [
    {
     "name": "stdout",
     "output_type": "stream",
     "text": [
      "1 muffins\n",
      "2 muffins\n",
      "3 muffins\n",
      "4 muffins\n"
     ]
    }
   ],
   "source": [
    "for i in range(1, 5):\n",
    "    print(f'{i} muffins')"
   ]
  },
  {
   "cell_type": "code",
   "execution_count": 3,
   "metadata": {
    "slideshow": {
     "slide_type": "subslide"
    }
   },
   "outputs": [
    {
     "data": {
      "text/plain": [
       "[(0, 'я'), (1, 'мы'), (2, 'лучшие люди страны')]"
      ]
     },
     "execution_count": 3,
     "metadata": {},
     "output_type": "execute_result"
    }
   ],
   "source": [
    "list(enumerate(MAI))"
   ]
  },
  {
   "cell_type": "code",
   "execution_count": 32,
   "metadata": {
    "slideshow": {
     "slide_type": "fragment"
    }
   },
   "outputs": [
    {
     "name": "stdout",
     "output_type": "stream",
     "text": [
      "(0, 'я')\n",
      "(1, 'мы')\n",
      "(2, 'лучшие люди страны')\n"
     ]
    }
   ],
   "source": [
    "for people in enumerate(MAI):\n",
    "    print(people)"
   ]
  },
  {
   "cell_type": "code",
   "execution_count": 33,
   "metadata": {
    "slideshow": {
     "slide_type": "fragment"
    }
   },
   "outputs": [
    {
     "name": "stdout",
     "output_type": "stream",
     "text": [
      "index = 0, value = я\n",
      "index = 1, value = мы\n",
      "index = 2, value = лучшие люди страны\n"
     ]
    }
   ],
   "source": [
    "for index, value in enumerate(MAI):\n",
    "        print('index = {0}, value = {1}'.format(index, value))"
   ]
  },
  {
   "cell_type": "code",
   "execution_count": 34,
   "metadata": {
    "slideshow": {
     "slide_type": "subslide"
    }
   },
   "outputs": [
    {
     "ename": "ValueError",
     "evalue": "too many values to unpack (expected 2)",
     "output_type": "error",
     "traceback": [
      "\u001b[0;31m---------------------------------------------------------------------------\u001b[0m",
      "\u001b[0;31mValueError\u001b[0m                                Traceback (most recent call last)",
      "\u001b[0;32m<ipython-input-34-f328d3f97fa9>\u001b[0m in \u001b[0;36m<module>\u001b[0;34m()\u001b[0m\n\u001b[1;32m      1\u001b[0m \u001b[0mMAI\u001b[0m \u001b[0;34m=\u001b[0m \u001b[0;34m{\u001b[0m\u001b[0;36m1\u001b[0m\u001b[0;34m:\u001b[0m\u001b[0;34m'авиастроение'\u001b[0m\u001b[0;34m,\u001b[0m \u001b[0;34m'инжэкин'\u001b[0m\u001b[0;34m:\u001b[0m\u001b[0;36m5\u001b[0m\u001b[0;34m,\u001b[0m \u001b[0;36m9\u001b[0m\u001b[0;34m:\u001b[0m\u001b[0;34m'прикладная механика'\u001b[0m\u001b[0;34m}\u001b[0m\u001b[0;34m\u001b[0m\u001b[0m\n\u001b[1;32m      2\u001b[0m \u001b[0;34m\u001b[0m\u001b[0m\n\u001b[0;32m----> 3\u001b[0;31m \u001b[0;32mfor\u001b[0m \u001b[0mkey\u001b[0m\u001b[0;34m,\u001b[0m \u001b[0mvalue\u001b[0m \u001b[0;32min\u001b[0m \u001b[0mMAI\u001b[0m\u001b[0;34m.\u001b[0m\u001b[0mkeys\u001b[0m\u001b[0;34m(\u001b[0m\u001b[0;34m)\u001b[0m\u001b[0;34m,\u001b[0m \u001b[0mMAI\u001b[0m\u001b[0;34m.\u001b[0m\u001b[0mvalues\u001b[0m\u001b[0;34m(\u001b[0m\u001b[0;34m)\u001b[0m\u001b[0;34m:\u001b[0m\u001b[0;34m\u001b[0m\u001b[0m\n\u001b[0m\u001b[1;32m      4\u001b[0m     \u001b[0mprint\u001b[0m\u001b[0;34m(\u001b[0m\u001b[0;34m'ключ \"{0}\"\\t со значением \"{1}\"'\u001b[0m\u001b[0;34m.\u001b[0m\u001b[0mformat\u001b[0m\u001b[0;34m(\u001b[0m\u001b[0mkey\u001b[0m\u001b[0;34m,\u001b[0m \u001b[0mvalue\u001b[0m\u001b[0;34m)\u001b[0m\u001b[0;34m)\u001b[0m\u001b[0;34m\u001b[0m\u001b[0m\n",
      "\u001b[0;31mValueError\u001b[0m: too many values to unpack (expected 2)"
     ]
    }
   ],
   "source": [
    "MAI = {1:'авиастроение', 'инжэкин':5, 9:'прикладная механика'}\n",
    "\n",
    "for key, value in MAI.keys(), MAI.values():\n",
    "    print('ключ \"{0}\"\\t со значением \"{1}\"'.format(key, value))"
   ]
  },
  {
   "cell_type": "code",
   "execution_count": 35,
   "metadata": {
    "slideshow": {
     "slide_type": "fragment"
    }
   },
   "outputs": [
    {
     "name": "stdout",
     "output_type": "stream",
     "text": [
      "ключ \"1\"\t со значением \"авиастроение\"\n",
      "ключ \"инжэкин\"\t со значением \"5\"\n",
      "ключ \"9\"\t со значением \"прикладная механика\"\n"
     ]
    }
   ],
   "source": [
    "for key, value in zip(MAI.keys(), MAI.values()):\n",
    "    print('ключ \"{0}\"\\t со значением \"{1}\"'.format(key, value))"
   ]
  },
  {
   "cell_type": "markdown",
   "metadata": {
    "slideshow": {
     "slide_type": "slide"
    }
   },
   "source": [
    "## While\n",
    "\n",
    "```python\n",
    "while condition:\n",
    "    loop_body\n",
    "```"
   ]
  },
  {
   "cell_type": "markdown",
   "metadata": {
    "slideshow": {
     "slide_type": "subslide"
    }
   },
   "source": [
    "Общий вид (аналог функции $\\displaystyle s=\\sum_{i=1}^{100} i^2$)"
   ]
  },
  {
   "cell_type": "code",
   "execution_count": 4,
   "metadata": {
    "slideshow": {
     "slide_type": "-"
    }
   },
   "outputs": [
    {
     "name": "stdout",
     "output_type": "stream",
     "text": [
      "338350\n"
     ]
    }
   ],
   "source": [
    "s = 0\n",
    "i = 1\n",
    "\n",
    "while i <= 100:\n",
    "    s += i**2\n",
    "    i += 1\n",
    "\n",
    "print(s)"
   ]
  },
  {
   "cell_type": "markdown",
   "metadata": {
    "slideshow": {
     "slide_type": "subslide"
    }
   },
   "source": [
    "Вечный цикл\n",
    "\n",
    "```python\n",
    "while 1:\n",
    "    pass\n",
    "```"
   ]
  },
  {
   "cell_type": "markdown",
   "metadata": {
    "slideshow": {
     "slide_type": "subslide"
    }
   },
   "source": [
    "### _task_\n",
    "\n",
    "Чему будет равна переменная i ?\n",
    "\n",
    "```python\n",
    "i = 0\n",
    "while i <= 10:\n",
    "    i += 1\n",
    "    if i > 7:\n",
    "        i += 2\n",
    "```"
   ]
  },
  {
   "cell_type": "markdown",
   "metadata": {
    "slideshow": {
     "slide_type": "fragment"
    }
   },
   "source": [
    "__13__"
   ]
  },
  {
   "cell_type": "markdown",
   "metadata": {
    "slideshow": {
     "slide_type": "subslide"
    }
   },
   "source": [
    "## Операторы `break` и `continue`\n",
    "\n",
    "```python\n",
    "i = 0\n",
    "while i < 20:\n",
    "    i += 1\n",
    "    if i < 5:\n",
    "        continue\n",
    "    elif i == 10:\n",
    "        break\n",
    "```"
   ]
  },
  {
   "cell_type": "markdown",
   "metadata": {
    "slideshow": {
     "slide_type": "slide"
    }
   },
   "source": [
    "# Работа с файлами\n",
    "\n",
    "```python\n",
    "file = open('file.txt', 'w', encoding='utf8')\n",
    "```\n",
    "1. имя файла на диске (+путь...)\n",
    "2. режим работы\n",
    "    - `r` - read\n",
    "    - `w` - write\n",
    "    - `a` - append\n",
    "3. кодировка символов в текстовых файлах: _utf8_, _ascii_, _cp1251_"
   ]
  },
  {
   "cell_type": "code",
   "execution_count": 36,
   "metadata": {
    "slideshow": {
     "slide_type": "fragment"
    }
   },
   "outputs": [
    {
     "name": "stdout",
     "output_type": "stream",
     "text": [
      "hello\n",
      "\n"
     ]
    }
   ],
   "source": [
    "file = open('file.txt', 'w')\n",
    "file.write('hello\\n')\n",
    "file.close()\n",
    "\n",
    "file = open('file.txt', 'r')\n",
    "print(file.readline())\n",
    "file.close()"
   ]
  },
  {
   "cell_type": "code",
   "execution_count": 37,
   "metadata": {
    "slideshow": {
     "slide_type": "subslide"
    }
   },
   "outputs": [
    {
     "name": "stdout",
     "output_type": "stream",
     "text": [
      "hello\n",
      "lorem ipsum\n",
      "hello world\n",
      "\n"
     ]
    }
   ],
   "source": [
    "file = open('file.txt', 'a')\n",
    "file.write('lorem ipsum\\n')\n",
    "file.write('hello world\\n')\n",
    "file.close()\n",
    "\n",
    "file = open('file.txt', 'r')\n",
    "line = file.read()\n",
    "file.close()\n",
    "\n",
    "print(line)"
   ]
  },
  {
   "cell_type": "code",
   "execution_count": 38,
   "metadata": {
    "slideshow": {
     "slide_type": "subslide"
    }
   },
   "outputs": [
    {
     "name": "stdout",
     "output_type": "stream",
     "text": [
      "hello\n",
      "lore\n"
     ]
    }
   ],
   "source": [
    "file = open('file.txt', 'r')\n",
    "line = file.read(10)\n",
    "file.close()\n",
    "\n",
    "print(line)"
   ]
  },
  {
   "cell_type": "code",
   "execution_count": 39,
   "metadata": {
    "slideshow": {
     "slide_type": "subslide"
    }
   },
   "outputs": [
    {
     "name": "stdout",
     "output_type": "stream",
     "text": [
      "Lorem ipsum dolor sit amet, consectetur adipiscing elit,\n",
      "\n",
      "sed do eiusmod tempor incididunt ut labore et dolore magna aliqua.\n",
      "\n",
      "Ut enim ad minim veniam, quis nostrud exercitation ullamco laboris\n",
      "\n",
      "nisi ut aliquip ex ea commodo consequat. Duis aute irure dolor\n",
      "\n",
      "in reprehenderit in voluptate velit esse cillum dolore eu fugiat\n",
      "\n",
      "nulla pariatur. Excepteur sint occaecat cupidatat non proident,\n",
      "\n",
      "sunt in culpa qui officia deserunt mollit anim id est laborum.\n",
      "\n"
     ]
    }
   ],
   "source": [
    "with open('lambda.txt', 'r') as text:\n",
    "    for line in text:\n",
    "        print(line)"
   ]
  },
  {
   "cell_type": "markdown",
   "metadata": {
    "slideshow": {
     "slide_type": "subslide"
    }
   },
   "source": [
    "### task\n",
    "\n",
    "Вывести из файла lambda.txt слова, начинающиеся с букв `a` или `u`"
   ]
  },
  {
   "cell_type": "code",
   "execution_count": 40,
   "metadata": {
    "slideshow": {
     "slide_type": "fragment"
    }
   },
   "outputs": [
    {
     "name": "stdout",
     "output_type": "stream",
     "text": [
      "amet,\n",
      "adipiscing\n",
      "ut\n",
      "aliqua.\n",
      "ad\n",
      "ullamco\n",
      "ut\n",
      "aliquip\n",
      "aute\n",
      "anim\n"
     ]
    }
   ],
   "source": [
    "with open('lambda.txt', 'r') as text:\n",
    "    for line in text:\n",
    "        for word in line.split():\n",
    "            if word[0] == 'a' or word[0] == 'u':\n",
    "                print(word)\n",
    "            else:\n",
    "                continue"
   ]
  },
  {
   "cell_type": "markdown",
   "metadata": {
    "slideshow": {
     "slide_type": "slide"
    }
   },
   "source": [
    "# Функциональное программирование"
   ]
  },
  {
   "cell_type": "markdown",
   "metadata": {
    "slideshow": {
     "slide_type": "slide"
    }
   },
   "source": [
    "## Лямбда-выражения\n",
    "\n",
    "Общий вид:\n",
    "```python\n",
    "lambda variable_1, variable_2: expression_with_variables\n",
    "```"
   ]
  },
  {
   "cell_type": "code",
   "execution_count": 41,
   "metadata": {
    "slideshow": {
     "slide_type": "fragment"
    }
   },
   "outputs": [
    {
     "data": {
      "text/plain": [
       "7"
      ]
     },
     "execution_count": 41,
     "metadata": {},
     "output_type": "execute_result"
    }
   ],
   "source": [
    "(lambda x: x+2)(5)"
   ]
  },
  {
   "cell_type": "markdown",
   "metadata": {
    "slideshow": {
     "slide_type": "subslide"
    }
   },
   "source": [
    "Для применения лямбда-функции к элементам списка используется команда `map()`\n",
    "\n",
    "Общий вид:\n",
    "```python\n",
    "map(lambda variable: expression_w_variable, iterable)\n",
    "```\n"
   ]
  },
  {
   "cell_type": "code",
   "execution_count": 6,
   "metadata": {
    "slideshow": {
     "slide_type": "fragment"
    }
   },
   "outputs": [
    {
     "name": "stdout",
     "output_type": "stream",
     "text": [
      "МАИ - это я\n",
      "МАИ - это мы\n",
      "МАИ - это лучшие люди страны\n",
      "[None, None, None]\n"
     ]
    }
   ],
   "source": [
    "MAI = ['я','мы','лучшие люди страны']\n",
    "\n",
    "print(\n",
    "    list(\n",
    "        map(\n",
    "            lambda who: print(f'МАИ - это {who}'), MAI\n",
    "        )\n",
    "    )\n",
    ")"
   ]
  },
  {
   "cell_type": "markdown",
   "metadata": {
    "slideshow": {
     "slide_type": "subslide"
    }
   },
   "source": [
    "страшный пример из реальной жизни\n",
    "\n",
    "```python\n",
    "sigmoid = lambda y: 1. / (1 + np.exp(-y))\n",
    "\n",
    "log_loss_from_staged_decision = lambda staged_decision, y: \\\n",
    "    map(lambda pred: log_loss(y, pred), map(sigmoid, staged_decision))\n",
    "    \n",
    "get_train_loss = lambda lr, X, y: \\\n",
    "    log_loss_from_staged_decision(get_clf(lr).staged_decision_function(X), y)\n",
    "```"
   ]
  },
  {
   "cell_type": "markdown",
   "metadata": {
    "slideshow": {
     "slide_type": "subslide"
    }
   },
   "source": [
    "### task\n",
    "\n",
    "Что делает эта строчка?\n",
    "\n",
    "```python\n",
    "data['Sex'] = data['Sex'].map(lambda x: 1 if x == 'M' else (-1 if x == 'F' else 0))\n",
    "```"
   ]
  },
  {
   "cell_type": "markdown",
   "metadata": {
    "slideshow": {
     "slide_type": "slide"
    }
   },
   "source": [
    "## Компоновки / списковые включения (Listing Comprehensions)"
   ]
  },
  {
   "cell_type": "code",
   "execution_count": 43,
   "metadata": {
    "slideshow": {
     "slide_type": "fragment"
    }
   },
   "outputs": [
    {
     "name": "stdout",
     "output_type": "stream",
     "text": [
      "1\n",
      "4\n",
      "9\n",
      "16\n",
      "25\n",
      "36\n",
      "49\n",
      "64\n",
      "81\n"
     ]
    }
   ],
   "source": [
    "def sqares(l):\n",
    "    for x in l:\n",
    "        print(x**2)\n",
    "\n",
    "sqares(range(1, 10))"
   ]
  },
  {
   "cell_type": "code",
   "execution_count": 44,
   "metadata": {
    "slideshow": {
     "slide_type": "fragment"
    }
   },
   "outputs": [
    {
     "data": {
      "text/plain": [
       "[1, 4, 9, 16, 25, 36, 49, 64, 81]"
      ]
     },
     "execution_count": 44,
     "metadata": {},
     "output_type": "execute_result"
    }
   ],
   "source": [
    "[x**2 for x in range(1, 10)]"
   ]
  },
  {
   "cell_type": "markdown",
   "metadata": {
    "slideshow": {
     "slide_type": "subslide"
    }
   },
   "source": [
    "### task\n",
    "\n",
    "Написать ту же функцию, но с использованием лямбда-функций"
   ]
  },
  {
   "cell_type": "code",
   "execution_count": 45,
   "metadata": {
    "slideshow": {
     "slide_type": "fragment"
    }
   },
   "outputs": [
    {
     "data": {
      "text/plain": [
       "[1, 4, 9, 16, 25, 36, 49, 64, 81]"
      ]
     },
     "execution_count": 45,
     "metadata": {},
     "output_type": "execute_result"
    }
   ],
   "source": [
    "list(map(lambda x: x**2, range(1,10)))"
   ]
  },
  {
   "cell_type": "markdown",
   "metadata": {
    "slideshow": {
     "slide_type": "slide"
    }
   },
   "source": [
    "# ДЗ\n",
    "\n",
    "1. [Парсер](https://github.com/lambdafrela/parser/issues/11) - по ссылке достаточно подробное описание того, что надо сделать, если останутся вопросы - ждем в [#python](http://lambdafrela.slack.com/)\n",
    "2. [Coding Bat Lists 1](http://codingbat.com/python/List-1) - задания на списки попроще\n",
    "3. [Coding Bat Lists 2](http://codingbat.com/python/List-2) - задания на списки посложнее"
   ]
  },
  {
   "cell_type": "markdown",
   "metadata": {
    "slideshow": {
     "slide_type": "slide"
    }
   },
   "source": [
    "## в следующий раз\n",
    "\n",
    "- исключения\n",
    "- регулярные выражения"
   ]
  },
  {
   "cell_type": "markdown",
   "metadata": {},
   "source": [
    "# референс\n",
    "\n",
    "- [Хорошая статья про функциональное программирование с примерами](https://ru.wikipedia.org/wiki/%D0%A4%D1%83%D0%BD%D0%BA%D1%86%D0%B8%D0%BE%D0%BD%D0%B0%D0%BB%D1%8C%D0%BD%D0%BE%D0%B5_%D0%BF%D1%80%D0%BE%D0%B3%D1%80%D0%B0%D0%BC%D0%BC%D0%B8%D1%80%D0%BE%D0%B2%D0%B0%D0%BD%D0%B8%D0%B5_%D0%BD%D0%B0_Python)\n",
    "- [Страшные примеры компоновок](https://en.wikipedia.org/wiki/List_comprehension)\n",
    "- [Еще немного страшных примеров на русском](https://habrahabr.ru/post/30232/)"
   ]
  }
 ],
 "metadata": {
  "celltoolbar": "Slideshow",
  "kernelspec": {
   "display_name": "Python 3",
   "language": "python",
   "name": "python3"
  },
  "language_info": {
   "codemirror_mode": {
    "name": "ipython",
    "version": 3
   },
   "file_extension": ".py",
   "mimetype": "text/x-python",
   "name": "python",
   "nbconvert_exporter": "python",
   "pygments_lexer": "ipython3",
   "version": "3.6.1"
  }
 },
 "nbformat": 4,
 "nbformat_minor": 1
}
