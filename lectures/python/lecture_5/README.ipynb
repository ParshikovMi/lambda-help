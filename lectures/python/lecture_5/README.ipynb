{
 "cells": [
  {
   "cell_type": "markdown",
   "metadata": {
    "slideshow": {
     "slide_type": "slide"
    }
   },
   "source": [
    "![](pics/presentation.png)"
   ]
  },
  {
   "cell_type": "markdown",
   "metadata": {
    "slideshow": {
     "slide_type": "slide"
    }
   },
   "source": [
    "# Волшебные переменные `*`args и `**`kwargs"
   ]
  },
  {
   "cell_type": "markdown",
   "metadata": {
    "slideshow": {
     "slide_type": "fragment"
    }
   },
   "source": [
    "Многие новички тратят много времени на знакомство с волшебными переменными `*args` и `**kwargs`. Что же они такое?\n",
    "\n",
    "Для начала, давайте объяснимся -- не обязательно писать в точности `*args` или `**kwargs`. Обязательно писать только звездочку (`*`). На практике можно писать, например, `*var` и `**vars`. Использование формы `*args` и `**kwargs` -- это чисто договоренность (которой, все же, стоит следовать).\n",
    "\n",
    "Теперь, давайте разбираться с `*args`."
   ]
  },
  {
   "cell_type": "markdown",
   "metadata": {
    "slideshow": {
     "slide_type": "subslide"
    }
   },
   "source": [
    "## Использование `*`args"
   ]
  },
  {
   "cell_type": "markdown",
   "metadata": {
    "slideshow": {
     "slide_type": "notes"
    }
   },
   "source": [
    "`*args` и `**kwargs` в основном используются при написании функций. Эти конструкции позволяют передавать различное количество аргументов в функцию. Т.е. ты, как программист не можешь точно предположить, как много аргументов пользователь передаст в твою функцию, поэтому прибегаешь к помощи магии. `*args` используется для передачи неопределенного размера списка неименованных аргументов в функцию. Другими словами `*args` -- это __кортеж__, состоящий из аргументов.\n",
    "\n",
    "Вот немного кода для примера:"
   ]
  },
  {
   "cell_type": "code",
   "execution_count": 59,
   "metadata": {
    "collapsed": true,
    "slideshow": {
     "slide_type": "fragment"
    }
   },
   "outputs": [],
   "source": [
    "def test_var_args(arg, *args):\n",
    "    print(\"first normal arg:\", arg)\n",
    "    \n",
    "    for arg_ in args:\n",
    "        print(f\"another arg through *args : {arg_}\")"
   ]
  },
  {
   "cell_type": "code",
   "execution_count": 60,
   "metadata": {
    "slideshow": {
     "slide_type": "fragment"
    }
   },
   "outputs": [
    {
     "name": "stdout",
     "output_type": "stream",
     "text": [
      "first normal arg: yasoob\n",
      "another arg through *args : python\n",
      "another arg through *args : eggs\n",
      "another arg through *args : test\n"
     ]
    }
   ],
   "source": [
    "test_var_args('yasoob','python','eggs','test')"
   ]
  },
  {
   "cell_type": "markdown",
   "metadata": {
    "slideshow": {
     "slide_type": "notes"
    }
   },
   "source": [
    "Надеюсь, что назначение `*args` тепреь прояснилось. Тепреь поговорим о `**kwargs`."
   ]
  },
  {
   "cell_type": "markdown",
   "metadata": {
    "slideshow": {
     "slide_type": "subslide"
    }
   },
   "source": [
    "## Использование `**`kwargs"
   ]
  },
  {
   "cell_type": "markdown",
   "metadata": {
    "slideshow": {
     "slide_type": "notes"
    }
   },
   "source": [
    "`**kwargs` позволяют передать неопределенное количество именованных переменных в функцию. Использовать `*kwargs` лучше всего, когда необходимо использовать имена аргументов в функции.\n",
    "\n",
    "Вот пример, чтобы понять основы:"
   ]
  },
  {
   "cell_type": "code",
   "execution_count": 61,
   "metadata": {
    "collapsed": true,
    "slideshow": {
     "slide_type": "fragment"
    }
   },
   "outputs": [],
   "source": [
    "def table_things(**kwargs):\n",
    "    for name, value in kwargs.items():\n",
    "        print(f'{name} = {value}')"
   ]
  },
  {
   "cell_type": "code",
   "execution_count": 62,
   "metadata": {
    "slideshow": {
     "slide_type": "fragment"
    }
   },
   "outputs": [
    {
     "name": "stdout",
     "output_type": "stream",
     "text": [
      "apple = fruit\n",
      "cabbage = vegetable\n"
     ]
    }
   ],
   "source": [
    "table_things(apple = 'fruit', cabbage = 'vegetable')"
   ]
  },
  {
   "cell_type": "markdown",
   "metadata": {
    "slideshow": {
     "slide_type": "notes"
    }
   },
   "source": [
    "Можно видеть, что мы работаем со список именованных аргументов в нашей функции. Это только основы использования `*kwargs`, и ты увидишь, как это полезно."
   ]
  },
  {
   "cell_type": "markdown",
   "metadata": {
    "slideshow": {
     "slide_type": "subslide"
    }
   },
   "source": [
    "## Использование `*`args и `**`kwargs для вызова функции"
   ]
  },
  {
   "cell_type": "markdown",
   "metadata": {
    "slideshow": {
     "slide_type": "notes"
    }
   },
   "source": [
    "Теперь давай посмотрим, как использовать всю магию, чтобы вызывать функцию со списком или словарем аргументов. Представим, что у нас есть небольшая функция:"
   ]
  },
  {
   "cell_type": "code",
   "execution_count": 63,
   "metadata": {
    "collapsed": true,
    "slideshow": {
     "slide_type": "fragment"
    }
   },
   "outputs": [],
   "source": [
    "def test_args_kwargs(arg1, arg2, arg3):\n",
    "    print(\"arg1:\", arg1)\n",
    "    print(\"arg2:\", arg2)\n",
    "    print(\"arg3:\", arg3)"
   ]
  },
  {
   "cell_type": "markdown",
   "metadata": {
    "slideshow": {
     "slide_type": "notes"
    }
   },
   "source": [
    "Теперь мы можем использовать `*args` или `*kwargs`, чтобы передать некоторые аргументы в эту функцию. Вот как это делать:"
   ]
  },
  {
   "cell_type": "code",
   "execution_count": 64,
   "metadata": {
    "slideshow": {
     "slide_type": "fragment"
    }
   },
   "outputs": [
    {
     "name": "stdout",
     "output_type": "stream",
     "text": [
      "arg1: two\n",
      "arg2: 3\n",
      "arg3: 5\n"
     ]
    }
   ],
   "source": [
    "# сначала *args\n",
    "args = (\"two\", 3, 5)\n",
    "test_args_kwargs(*args)"
   ]
  },
  {
   "cell_type": "code",
   "execution_count": 65,
   "metadata": {
    "slideshow": {
     "slide_type": "fragment"
    }
   },
   "outputs": [
    {
     "name": "stdout",
     "output_type": "stream",
     "text": [
      "arg1: 5\n",
      "arg2: two\n",
      "arg3: 3\n"
     ]
    }
   ],
   "source": [
    "# теперь **kwargs:\n",
    "kwargs = {\"arg3\":3, \"arg2\":\"two\", \"arg1\":5}\n",
    "test_args_kwargs(**kwargs)"
   ]
  },
  {
   "cell_type": "markdown",
   "metadata": {
    "slideshow": {
     "slide_type": "subslide"
    }
   },
   "source": [
    "## Порядок использования `*`args, `**`kwargs и формальных аргументов.\n",
    "\n",
    "Если же мы хотим использовать все три вида передачи аргументов, то порядок для этого следующий:\n",
    "\n",
    "```python\n",
    "some_func(fargs, *args, **kwargs)\n",
    "```"
   ]
  },
  {
   "cell_type": "markdown",
   "metadata": {
    "slideshow": {
     "slide_type": "slide"
    }
   },
   "source": [
    "# Декораторы\n",
    "\n",
    "![](https://lambda-it.ru/media/blog/2017-07-24-python-decorators/qxf2-gun-decorator1.jpg)"
   ]
  },
  {
   "cell_type": "markdown",
   "metadata": {
    "slideshow": {
     "slide_type": "notes"
    }
   },
   "source": [
    "При первом знакомстве декораторы могут показаться весьма сложными для понимания, и, кроме того, они могут хорошенько запутать вас в процессе дебага. Но с помощью них можно очень аккуратно добавить новую функциональность функциям и классам. Декораторы так же известны как “функции высших порядков”. Это значит, что они могут принимать одну или несколько функций в качестве аргументов и возвращать функцию в качестве результата. Другими словами, декораторы расширяют возможности функции, не изменяя ее при этом."
   ]
  },
  {
   "cell_type": "markdown",
   "metadata": {
    "slideshow": {
     "slide_type": "subslide"
    }
   },
   "source": [
    "## Теория\n",
    "\n",
    "В Python 2.2 было два декоратора: `classmethod()` и `statiсmethod()`. Затем появился `PEP 318` и в версии 2.4 добавили синтаксис для декораторов. Декораторы классов предложили для добавления в версию 2.6 в `PEP 3129`. Рабочая версия появилась в 2.7, хотя в PEP отмечено, что декораторы не рекомендованы к использованию в версиях Python младше 3."
   ]
  },
  {
   "cell_type": "markdown",
   "metadata": {
    "slideshow": {
     "slide_type": "notes"
    }
   },
   "source": [
    "Прежде всего поговорим о функциях в целом.\n",
    "\n",
    "Функции - тоже объекты. В Python многие авторы описывают функции, как “объекты первого класса”. Под этим они подразумевают, что функция может передаваться и использоваться в качестве аргументов для других функций так же, как и объекты обычного типа данных, например целого или строкового. Давайте рассмотрим несколько примеров, чтобы понять идею:"
   ]
  },
  {
   "cell_type": "code",
   "execution_count": 66,
   "metadata": {
    "slideshow": {
     "slide_type": "slide"
    }
   },
   "outputs": [
    {
     "name": "stdout",
     "output_type": "stream",
     "text": [
      "<function doubler at 0x000000795E7C5AE8>\n"
     ]
    }
   ],
   "source": [
    "def doubler(number):\n",
    "       return number * 2\n",
    "print(doubler)"
   ]
  },
  {
   "cell_type": "code",
   "execution_count": 67,
   "metadata": {
    "slideshow": {
     "slide_type": "fragment"
    }
   },
   "outputs": [
    {
     "name": "stdout",
     "output_type": "stream",
     "text": [
      "20\n"
     ]
    }
   ],
   "source": [
    "print(doubler(10))"
   ]
  },
  {
   "cell_type": "code",
   "execution_count": 68,
   "metadata": {
    "slideshow": {
     "slide_type": "fragment"
    }
   },
   "outputs": [
    {
     "name": "stdout",
     "output_type": "stream",
     "text": [
      "doubler\n",
      "None\n"
     ]
    }
   ],
   "source": [
    "print(doubler.__name__)\n",
    "print(doubler.__doc__)"
   ]
  },
  {
   "cell_type": "code",
   "execution_count": 69,
   "metadata": {
    "slideshow": {
     "slide_type": "fragment"
    }
   },
   "outputs": [
    {
     "name": "stdout",
     "output_type": "stream",
     "text": [
      "Doubles the number passed to it\n",
      "['__annotations__', '__call__', '__class__', '__closure__', '__code__', '__defaults__', '__delattr__', '__dict__', '__dir__', '__doc__', '__eq__', '__format__', '__ge__', '__get__', '__getattribute__', '__globals__', '__gt__', '__hash__', '__init__', '__init_subclass__', '__kwdefaults__', '__le__', '__lt__', '__module__', '__name__', '__ne__', '__new__', '__qualname__', '__reduce__', '__reduce_ex__', '__repr__', '__setattr__', '__sizeof__', '__str__', '__subclasshook__']\n"
     ]
    }
   ],
   "source": [
    "def doubler(number):\n",
    "        \"\"\"Doubles the number passed to it\"\"\"\n",
    "        return number * 2\n",
    "\n",
    "print(doubler.__doc__)\n",
    "print(dir(doubler))"
   ]
  },
  {
   "cell_type": "markdown",
   "metadata": {
    "slideshow": {
     "slide_type": "notes"
    }
   },
   "source": [
    "Как видите, вы можете создать функцию, а затем передать ее встроенной функции `print()` или любой другой. К тому же, функция сразу после определения автоматически получает атрибуты, к которым вы можете получить доступ. В вышеприведенном примере мы обратились к `__doc__`. Этот атрибут содержит `docstring` функции, и, пока его не было, атрибут содержал значение `None`. После мы переопределили функцию, добавив `docstring`, и обращение к атрибуту `__doc__` вернуло его значение. Также мы можем получить имя функции, обратившись к `func_name`. Проверьте сами другие атрибуты из списка выше."
   ]
  },
  {
   "cell_type": "markdown",
   "metadata": {
    "slideshow": {
     "slide_type": "slide"
    }
   },
   "source": [
    "## Наш первый декоратор"
   ]
  },
  {
   "cell_type": "markdown",
   "metadata": {},
   "source": [
    "Создать декортатор довольно легко. Как упоминалось ранее, все что нужно для создания декоратора - создать функцию, которая принимает другую в качестве аргумента. Взгляните:"
   ]
  },
  {
   "cell_type": "code",
   "execution_count": 70,
   "metadata": {
    "collapsed": true,
    "slideshow": {
     "slide_type": "fragment"
    }
   },
   "outputs": [],
   "source": [
    "def doubler(number):\n",
    "    \"\"\"Doubles the number passed to it\"\"\"\n",
    "    return number * 2\n",
    "\n",
    "def info(func):\n",
    "    def wrapper(*args):\n",
    "        print('Function name: ' + func.__name__)\n",
    "        print('Function docstring: ' + str(func.__doc__))\n",
    "        return func(*args)\n",
    "    return wrapper "
   ]
  },
  {
   "cell_type": "code",
   "execution_count": 71,
   "metadata": {
    "slideshow": {
     "slide_type": "fragment"
    }
   },
   "outputs": [
    {
     "name": "stdout",
     "output_type": "stream",
     "text": [
      "Function name: doubler\n",
      "Function docstring: Doubles the number passed to it\n",
      "4\n"
     ]
    }
   ],
   "source": [
    "my_decorator = info(doubler)\n",
    "print(my_decorator(2))"
   ]
  },
  {
   "cell_type": "markdown",
   "metadata": {
    "slideshow": {
     "slide_type": "notes"
    }
   },
   "source": [
    "Как видите, функция-декоратор `info()` содержит вложенную функцию `wrapper()`. Вложенную функцию можно назвать как захотите. Функция-обертка принимает аргументы (опционально именованные), предназначенные для обертываемой функции.\n",
    "\n",
    "Для использования декортатора, мы создаем его объект:\n",
    "\n",
    "```python\n",
    "my_decorator = info(doubler)  # В my_decorator содержится объект функции wrapper.\n",
    "```\n",
    "\n",
    "Для использования декортатора, мы вызываем его как обычную функцию: `my_decorator(2)`. При этом возвращается имя функции, которую мы обернули, ее докстринг и результат ее выполнения."
   ]
  },
  {
   "cell_type": "markdown",
   "metadata": {
    "slideshow": {
     "slide_type": "slide"
    }
   },
   "source": [
    "## Использование синтаксиса декораторов\n",
    "\n",
    "Python позволяет использовать следующий синтаксис для вызова декораторов: `@decorator`. Давайте изменим код выше: "
   ]
  },
  {
   "cell_type": "code",
   "execution_count": 72,
   "metadata": {
    "collapsed": true,
    "slideshow": {
     "slide_type": "fragment"
    }
   },
   "outputs": [],
   "source": [
    "def info(func):\n",
    "    def wrapper(*args):\n",
    "        print('Function name: ' + func.__name__)\n",
    "        print('Function docstring: ' + str(func.__doc__))\n",
    "        return func(*args)\n",
    "    return wrapper"
   ]
  },
  {
   "cell_type": "code",
   "execution_count": 73,
   "metadata": {
    "slideshow": {
     "slide_type": "fragment"
    }
   },
   "outputs": [
    {
     "name": "stdout",
     "output_type": "stream",
     "text": [
      "Function name: doubler\n",
      "Function docstring: Doubles the number passed to it\n",
      "8\n"
     ]
    }
   ],
   "source": [
    "@info\n",
    "def doubler(number):\n",
    "    \"\"\"Doubles the number passed to it\"\"\"\n",
    "    return number * 2\n",
    "\n",
    "print(doubler(4))"
   ]
  },
  {
   "cell_type": "markdown",
   "metadata": {
    "slideshow": {
     "slide_type": "notes"
    }
   },
   "source": [
    "Теперь можно вызывать `doubler()` вместо декоратора. `@info` над определением функции оборачивает (декорирует) функцию и вызывает декоратор, когда вызывается функция."
   ]
  },
  {
   "cell_type": "markdown",
   "metadata": {
    "slideshow": {
     "slide_type": "slide"
    }
   },
   "source": [
    "## Объединенные декораторы\n",
    "\n",
    "Декортаторы можно стакать или объединять в цепочки. Это значит, что можно использовать несколько декораторов одновременно. Взгляните на простой пример:"
   ]
  },
  {
   "cell_type": "code",
   "execution_count": 74,
   "metadata": {
    "collapsed": true,
    "slideshow": {
     "slide_type": "fragment"
    }
   },
   "outputs": [],
   "source": [
    "def bold(func):\n",
    "    def wrapper():\n",
    "        return \"<b>\" + func() + \"</b>\"\n",
    "    return wrapper\n",
    "\n",
    "def italic(func):\n",
    "    def wrapper():\n",
    "        return \"<i>\" + func() + \"</i>\"\n",
    "    return wrapper"
   ]
  },
  {
   "cell_type": "code",
   "execution_count": 75,
   "metadata": {
    "slideshow": {
     "slide_type": "fragment"
    }
   },
   "outputs": [
    {
     "name": "stdout",
     "output_type": "stream",
     "text": [
      "<b><i>Python rocks!</i></b>\n"
     ]
    }
   ],
   "source": [
    "@bold\n",
    "@italic\n",
    "def formatted_text():\n",
    "    return 'Python rocks!'\n",
    "\n",
    "print(formatted_text())"
   ]
  },
  {
   "cell_type": "markdown",
   "metadata": {
    "slideshow": {
     "slide_type": "notes"
    }
   },
   "source": [
    "Декоратор `bold()` обернет текст в тег `<b></b>`, а `italic()` - в `<i></i>`. Вам стоит попробовать изменить порядок декораторов, чтобы посмотреть, к чему это приведет.\n",
    "\n",
    "Если вы сделали это, то заметили, что сначала Python запускает ближайший к нему декоратор, а после остальные по цепочке вверх. Так, код выше сначала оборачивает текст в `<i></i>`, а потом в `<b></b>`. Если поменять декораторы местами, то порядок оборачивания изменится."
   ]
  },
  {
   "cell_type": "markdown",
   "metadata": {
    "slideshow": {
     "slide_type": "slide"
    }
   },
   "source": [
    "## Добавление аргументов к декоратору\n",
    "\n",
    "Добавление аргументов к декоратору сложнее, чем можно подумать. Вы не можете просто написать `@my_decorator(3, ‘Python’)`, потому что декоратор ожидает функцию в качестве аргумента… или можете?"
   ]
  },
  {
   "cell_type": "code",
   "execution_count": 76,
   "metadata": {
    "collapsed": true,
    "slideshow": {
     "slide_type": "fragment"
    }
   },
   "outputs": [],
   "source": [
    "def info(arg1, arg2):\n",
    "    print('Decorator arg1 = ' + str(arg1))\n",
    "    print('Decorator arg2 = ' + str(arg2))\n",
    "\n",
    "    def the_real_decorator(function):\n",
    "\n",
    "        def wrapper(*args, **kwargs):\n",
    "            print(f'Function {function.__name__} args: {args} kwargs: {kwargs}')\n",
    "            return function(*args, **kwargs)\n",
    "\n",
    "        return wrapper\n",
    "\n",
    "    return the_real_decorator"
   ]
  },
  {
   "cell_type": "code",
   "execution_count": 77,
   "metadata": {
    "slideshow": {
     "slide_type": "fragment"
    }
   },
   "outputs": [
    {
     "name": "stdout",
     "output_type": "stream",
     "text": [
      "Decorator arg1 = 3\n",
      "Decorator arg2 = Python\n",
      "Function doubler args: (5,) kwargs: {}\n",
      "10\n"
     ]
    }
   ],
   "source": [
    "@info(3, 'Python')\n",
    "def doubler(number):\n",
    "    return number * 2\n",
    "\n",
    "print(doubler(5))"
   ]
  },
  {
   "cell_type": "markdown",
   "metadata": {
    "slideshow": {
     "slide_type": "notes"
    }
   },
   "source": [
    "Как видите, у нас есть функция, вложенная в функцию, вложенная в другую функцию! Как это работает? Кажется, аргумент `function` берется из ниоткуда. Давайте создадим объект декоратора напрямую, без специального синтаксиса:"
   ]
  },
  {
   "cell_type": "code",
   "execution_count": 78,
   "metadata": {
    "collapsed": true,
    "slideshow": {
     "slide_type": "subslide"
    }
   },
   "outputs": [],
   "source": [
    "def info(arg1, arg2):\n",
    "    print('Decorator arg1 = ' + str(arg1))\n",
    "    print('Decorator arg2 = ' + str(arg2))\n",
    "\n",
    "    def the_real_decorator(function):\n",
    "\n",
    "        def wrapper(*args, **kwargs):\n",
    "            print(f'Function {function.__name__} args: {args} kwargs: {kwargs}')\n",
    "            return function(*args, **kwargs)\n",
    "\n",
    "        return wrapper\n",
    "\n",
    "    return the_real_decorator"
   ]
  },
  {
   "cell_type": "code",
   "execution_count": 79,
   "metadata": {
    "slideshow": {
     "slide_type": "fragment"
    }
   },
   "outputs": [
    {
     "name": "stdout",
     "output_type": "stream",
     "text": [
      "Decorator arg1 = 3\n",
      "Decorator arg2 = Python\n",
      "Function doubler args: (5,) kwargs: {}\n",
      "10\n"
     ]
    }
   ],
   "source": [
    "def doubler(number):\n",
    "    return number * 2\n",
    "\n",
    "decorator = info(3, 'Python')(doubler)\n",
    "print(decorator(5))"
   ]
  },
  {
   "cell_type": "markdown",
   "metadata": {
    "slideshow": {
     "slide_type": "notes"
    }
   },
   "source": [
    "Этот код эквивалентен предыдущему. Когда мы вызываем `info(3, 'Python')`, она возвращает объект функции декоратора, которую мы вызываем, передавая ей `doubler`. Так мы получаем сам объект обернутой функции. Можно разбить этот код на большее количество шагов:"
   ]
  },
  {
   "cell_type": "code",
   "execution_count": 80,
   "metadata": {
    "collapsed": true,
    "slideshow": {
     "slide_type": "subslide"
    }
   },
   "outputs": [],
   "source": [
    "def info(arg1, arg2):\n",
    "    print('Decorator arg1 = ' + str(arg1))\n",
    "    print('Decorator arg2 = ' + str(arg2))\n",
    "\n",
    "    def the_real_decorator(function):\n",
    "\n",
    "        def wrapper(*args, **kwargs):\n",
    "            print(f'Function {function.__name__} args: {args} kwargs: {kwargs}')\n",
    "            return function(*args, **kwargs)\n",
    "\n",
    "        return wrapper\n",
    "\n",
    "    return the_real_decorator\n",
    "\n",
    "def doubler(number):\n",
    "    return number * 2"
   ]
  },
  {
   "cell_type": "code",
   "execution_count": 81,
   "metadata": {
    "slideshow": {
     "slide_type": "fragment"
    }
   },
   "outputs": [
    {
     "name": "stdout",
     "output_type": "stream",
     "text": [
      "Decorator arg1 = 3\n",
      "Decorator arg2 = Python\n",
      "<function info.<locals>.the_real_decorator at 0x000000795E7A8D08>\n"
     ]
    }
   ],
   "source": [
    "decorator_function = info(3, 'Python')\n",
    "print(decorator_function)"
   ]
  },
  {
   "cell_type": "code",
   "execution_count": 82,
   "metadata": {
    "slideshow": {
     "slide_type": "fragment"
    }
   },
   "outputs": [
    {
     "name": "stdout",
     "output_type": "stream",
     "text": [
      "<function info.<locals>.the_real_decorator.<locals>.wrapper at 0x000000795E7A8A60>\n"
     ]
    }
   ],
   "source": [
    "actual_decorator = decorator_function(doubler)\n",
    "print(actual_decorator)"
   ]
  },
  {
   "cell_type": "markdown",
   "metadata": {
    "slideshow": {
     "slide_type": "notes"
    }
   },
   "source": [
    "# Вызываем декорированную функцию"
   ]
  },
  {
   "cell_type": "code",
   "execution_count": 83,
   "metadata": {
    "slideshow": {
     "slide_type": "notes"
    }
   },
   "outputs": [
    {
     "name": "stdout",
     "output_type": "stream",
     "text": [
      "Function doubler args: (5,) kwargs: {}\n",
      "10\n"
     ]
    }
   ],
   "source": [
    "print(actual_decorator(5))"
   ]
  },
  {
   "cell_type": "markdown",
   "metadata": {
    "slideshow": {
     "slide_type": "notes"
    }
   },
   "source": [
    "Сначала мы получаем объект функции декоратора. После этого мы получаем объект декоратора, который первым вложен в `info()` и называется `the_real_decorator()`. Ему мы передаем функцию, которую нужно декорировать. Теперь у нас есть декорированная функция, и в последней строке мы просто вызываем ее."
   ]
  },
  {
   "cell_type": "markdown",
   "metadata": {
    "slideshow": {
     "slide_type": "slide"
    }
   },
   "source": [
    "## Примеры использования\n",
    "\n",
    "- в микро-веб-фреймворке Flask декроаторы используются для роутинга:\n",
    "\n",
    "```python\n",
    "from flask import Flask\n",
    "app = Flask(__name__)\n",
    "\n",
    "@app.route(\"/\")\n",
    "def hello():\n",
    "    return \"Hello World!\"\n",
    "\n",
    "@app.route(\"/do_smth\")\n",
    "def do_smth():\n",
    "    process_complex_buiseness_logig(arg, *args, **kwargs)\n",
    "```"
   ]
  },
  {
   "cell_type": "markdown",
   "metadata": {
    "slideshow": {
     "slide_type": "subslide"
    }
   },
   "source": [
    "```python\n",
    "class Repost(Post):\n",
    "    def __init__(self, repost):\n",
    "        Post.__init__(self, post=repost)\n",
    "        self.text = repost['text']\n",
    "        self.ts = repost['date']\n",
    "        self.color = '#1C6047'\n",
    "        self.footer, self.footer_icon = self.get_footer(repost)\n",
    "        try:\n",
    "            if repost['attachments']:\n",
    "                self.image_url, self.thumb_url = self.get_image(\n",
    "                    repost['attachments'])\n",
    "        except KeyError:\n",
    "            self.image_url, self.thumb_url = None, None\n",
    "\n",
    "    @staticmethod\n",
    "    def get_footer(post):\n",
    "        if post['owner_id'] < 0:\n",
    "            author = Group(id=str(post['owner_id'])[1:])\n",
    "            footer, footer_icon = author.footer()\n",
    "            return footer, footer_icon\n",
    "        else:\n",
    "            author = User(id=post['owner_id'])\n",
    "            footer, footer_icon = author.footer()\n",
    "            return footer, footer_icon\n",
    "```"
   ]
  },
  {
   "cell_type": "markdown",
   "metadata": {
    "slideshow": {
     "slide_type": "slide"
    }
   },
   "source": [
    "## Заключение\n",
    "\n",
    "В Python есть много встроенных декортаторов, например, `@property`, `@classproperty` и `@staticmethod`. Модули `functools` и `contextlib` предоставляют много удобных декораторов. Например, обфускацию из-за декораторов можно устранить с помощью `functools.wraps` или сделать любую функцию менеджеком контекста с помощью `contextlib.contextmanager`.\n",
    "\n",
    "Многие разработчики используют декораторы для перехватывания исключений, создания логгеров и других классных фич. Они стоят времени, которое вы потратите на их изучение, ведь они делают код юолее читаемым и расширяемым."
   ]
  }
 ],
 "metadata": {
  "anaconda-cloud": {},
  "celltoolbar": "Slideshow",
  "kernelspec": {
   "display_name": "Python 3",
   "language": "python",
   "name": "python3"
  },
  "language_info": {
   "codemirror_mode": {
    "name": "ipython",
    "version": 3
   },
   "file_extension": ".py",
   "mimetype": "text/x-python",
   "name": "python",
   "nbconvert_exporter": "python",
   "pygments_lexer": "ipython3",
   "version": "3.6.1"
  }
 },
 "nbformat": 4,
 "nbformat_minor": 1
}
