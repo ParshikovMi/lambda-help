{
 "cells": [
  {
   "cell_type": "markdown",
   "metadata": {
    "slideshow": {
     "slide_type": "slide"
    }
   },
   "source": [
    "![](pics/presentation.png)"
   ]
  },
  {
   "cell_type": "markdown",
   "metadata": {
    "slideshow": {
     "slide_type": "slide"
    }
   },
   "source": [
    "# ООП на Python 3"
   ]
  },
  {
   "cell_type": "markdown",
   "metadata": {},
   "source": [
    "## Теория\n",
    "**Объектно-ориентированное программирование (ООП)** — парадигма программирования, в которой основными концепциями являются понятия объектов и классов.\n",
    "\n",
    "**Класс** — тип, описывающий устройство объектов. \n",
    "\n",
    "**Объект** — это экземпляр класса. Класс можно сравнить с чертежом, по которому создаются объекты. Объекты так же называют инстансами (англ *instance*).\n",
    "\n",
    "Чтобы понятия класса и объекта были яснее можно привести несколько примеров.\n",
    "Яблоко, апельсин и груша могут являться объектами одного класса - фрукт. \n",
    "\n",
    "В конце концов класс это коллекция (структура) данных, в случае создания новых классов - пользовательский тип данных. \n",
    "Так же класс это объединение данных и методов, тогда как при использовании структур (например `dict`) мы работаем только с данными."
   ]
  },
  {
   "cell_type": "markdown",
   "metadata": {
    "slideshow": {
     "slide_type": "subslide"
    }
   },
   "source": [
    "## Практика\n",
    "Представим, что мы делаем простейший форум и нам необходимо хранить данные о нескольких пользователях. Каждый пользователь уникален и имеет аналогичный другим набор информации: логин и пароль. Следовательно нам необходима структура данных для хранения этой информации.\n",
    "\n",
    "Тогда мы создадим класс User, а все объекты этого класса будут уникальными пользователями."
   ]
  },
  {
   "cell_type": "code",
   "execution_count": 1,
   "metadata": {
    "collapsed": true,
    "slideshow": {
     "slide_type": "-"
    }
   },
   "outputs": [],
   "source": [
    "class User():\n",
    "    user_type = \"Regular\"\n",
    "    def __init__(self, login, password):\n",
    "        self.login = login\n",
    "        self.password = password"
   ]
  },
  {
   "cell_type": "markdown",
   "metadata": {
    "slideshow": {
     "slide_type": "notes"
    }
   },
   "source": [
    "Разберем, что написали\n",
    "\n",
    "```python\n",
    "class User():\n",
    "```\n",
    "Ключевое слово `class` работает как `def`, но обозначает создание нового класса, а не метода.Сюда можно поместить переменные, общие для всех объектов класса.\n",
    "\n",
    "------\n",
    "\n",
    "```python\n",
    "user_type = 'Regular'\n",
    "```\n",
    "Добавим поле `user_type` в целях демонстрации.\n",
    "\n",
    "------\n",
    "\n",
    "```python\n",
    "def __init__(self, login, password):\n",
    "```\n",
    "**`def`** внутри объявления класса объявляет его метод. Методы с двумя поччеркиваниями (`__`) в начале и в конце являются служебными. Это не значит, что их не надо переопределять.  \n",
    "**`init`** (полн. *initialize* - инициализировать, создать) определяет создание экземпляра класса - какие параметры должны подаваться на вход, через аргументы метода, для создания объекта класса. **`init`** принято называть конструктором класса.  \n",
    "**`self`** - это ссылка на объект класса. **`self`** это обязательный первый аргумент любого метода, оперирующего объектом класса. **`self`** содержит пустой объект в **`init`**, в который можно записать данные.  \n",
    "**`self.login`** - это поле `login` нового объекта класса `User`, а `login` справа - значение, переданное конструктору\n",
    "\n",
    "------\n",
    "\n",
    "Рассмотрим наглядно.\n",
    "Класс объявлен и мы можем создать объект юзера."
   ]
  },
  {
   "cell_type": "code",
   "execution_count": 2,
   "metadata": {
    "collapsed": true,
    "slideshow": {
     "slide_type": "subslide"
    }
   },
   "outputs": [],
   "source": [
    "login = 'boris'\n",
    "password = '12345'\n",
    "first_user = User(login, password)\n",
    "\n",
    "login = 'kolya'\n",
    "password = '54321'\n",
    "second_user = User(login, password)"
   ]
  },
  {
   "cell_type": "markdown",
   "metadata": {
    "slideshow": {
     "slide_type": "notes"
    }
   },
   "source": [
    "Команда \n",
    "```python\n",
    "first_user = User(login, password)\n",
    "```\n",
    "запускает метод `__init__` и возвращает полученный объект.\n",
    "\n",
    "`first_user` и `second_user` содержат два разных объекта одного класса."
   ]
  },
  {
   "cell_type": "code",
   "execution_count": 4,
   "metadata": {
    "slideshow": {
     "slide_type": "fragment"
    }
   },
   "outputs": [
    {
     "name": "stdout",
     "output_type": "stream",
     "text": [
      "User types: Regular and Regular\n"
     ]
    }
   ],
   "source": [
    "print(f\"User types: {first_user.user_type} and {second_user.user_type}\")"
   ]
  },
  {
   "cell_type": "markdown",
   "metadata": {
    "slideshow": {
     "slide_type": "notes"
    }
   },
   "source": [
    "Оба объекта вернут одно значение, хотя мы не вводили его в конструктор. Это поле общее для всех объектов класса.\n",
    "\n",
    "Это так же значит, что если мы переопределим `user_type` у `first_user`, значение поменяется и у `second_user`. "
   ]
  },
  {
   "cell_type": "code",
   "execution_count": 5,
   "metadata": {
    "slideshow": {
     "slide_type": "fragment"
    }
   },
   "outputs": [
    {
     "name": "stdout",
     "output_type": "stream",
     "text": [
      "User logins: boris and kolya\n"
     ]
    }
   ],
   "source": [
    "print(f'User logins: {first_user.login} and {second_user.login}')"
   ]
  },
  {
   "cell_type": "markdown",
   "metadata": {
    "slideshow": {
     "slide_type": "notes"
    }
   },
   "source": [
    "Логины разные, потому что это независимые друг от друга объекты.\n",
    "\n",
    "------\n",
    "\n",
    "Конечно же мы можем получить класс объекта"
   ]
  },
  {
   "cell_type": "code",
   "execution_count": 6,
   "metadata": {
    "slideshow": {
     "slide_type": "subslide"
    }
   },
   "outputs": [
    {
     "name": "stdout",
     "output_type": "stream",
     "text": [
      "Object classes: <class '__main__.User'> and <class '__main__.User'>\n"
     ]
    }
   ],
   "source": [
    "print(f\"Object classes: {first_user.__class__} and {type(second_user)}\")"
   ]
  },
  {
   "cell_type": "markdown",
   "metadata": {
    "slideshow": {
     "slide_type": "notes"
    }
   },
   "source": [
    "Ещё немного теории.\n",
    "\n",
    "В **Python** всё является объектами - и строки, и списки, и словари, и всё остальное. Это значит, что у всего есть класс.\n",
    "\n",
    "**ООП** как парадигма, независимо от языка, строится на четырех основных принципах. \n",
    "Скажем о них кратко:"
   ]
  },
  {
   "cell_type": "markdown",
   "metadata": {
    "slideshow": {
     "slide_type": "slide"
    }
   },
   "source": [
    "1\\. **Полиморфизм**: в разных объектах одна и та же операция может выполнять различные функции. Простым примером полиморфизма может служить оператор сложения. Выражение `1 + 1` производит сложение целых чисел, а `[1] + [1]` производит создание нового списка являющегося объединением \"слагаемых\" списков.  \n",
    "В нашем случае полиморфизм можно продемонстрировать через вывод имени пользователя.  \n",
    "Служебный метод `__str__` отвечает за преобразование объекта в строковый вид. Мы можем его переопределить"
   ]
  },
  {
   "cell_type": "code",
   "execution_count": 7,
   "metadata": {
    "collapsed": true,
    "slideshow": {
     "slide_type": "subslide"
    }
   },
   "outputs": [],
   "source": [
    "class User():\n",
    "    user_type = \"Regular\"\n",
    "    def __init__(self, login, password):\n",
    "        self.login = login\n",
    "        self.password = password\n",
    "\n",
    "    def __str__(self): #обратите внимание на self\n",
    "        return self.login\n",
    "\n",
    "login = 'boris'\n",
    "password = '12345'\n",
    "first_user = User(login, password)\n",
    "\n",
    "login = 'kolya'\n",
    "password = '54321'\n",
    "second_user = User(login, password)"
   ]
  },
  {
   "cell_type": "markdown",
   "metadata": {
    "slideshow": {
     "slide_type": "skip"
    }
   },
   "source": [
    "Логины этих юзеров можно получить как обратившись к полю `login`, так и сделав преобразование объекта в строку:"
   ]
  },
  {
   "cell_type": "code",
   "execution_count": 8,
   "metadata": {
    "slideshow": {
     "slide_type": "fragment"
    }
   },
   "outputs": [
    {
     "name": "stdout",
     "output_type": "stream",
     "text": [
      "User logins with __str__: boris and kolya\n"
     ]
    }
   ],
   "source": [
    "print(f\"User logins with __str__: {str(first_user)} and {second_user.login}\")"
   ]
  },
  {
   "cell_type": "markdown",
   "metadata": {
    "slideshow": {
     "slide_type": "slide"
    }
   },
   "source": [
    "2\\. **Инкапсуляция**: можно скрыть ненужные внутренние подробности работы объекта от окружающего мира.  \n",
    "В нашем примере инкапсуляция может применяться при установке значения пароля и при запросе его значения. Например мы хотим зашифровать пароль при его записи и расшифровать при получении. Это скроет поле password от прямого доступа, оно будет доступно только через определенные методы."
   ]
  },
  {
   "cell_type": "code",
   "execution_count": 9,
   "metadata": {
    "collapsed": true,
    "slideshow": {
     "slide_type": "-"
    }
   },
   "outputs": [],
   "source": [
    "def encrypt(password):\n",
    "    return password\n",
    "\n",
    "def decrypt(password):\n",
    "    return password"
   ]
  },
  {
   "cell_type": "markdown",
   "metadata": {
    "slideshow": {
     "slide_type": "notes"
    }
   },
   "source": [
    "Методы шифрования и дешифровки я описывать не буду, используйте воображение и представьте, что они правда шифруют и дешифруют."
   ]
  },
  {
   "cell_type": "code",
   "execution_count": 10,
   "metadata": {
    "collapsed": true,
    "slideshow": {
     "slide_type": "subslide"
    }
   },
   "outputs": [],
   "source": [
    "class User():\n",
    "    user_type = \"Regular\"\n",
    "    def __init__(self, login, password):\n",
    "        self.login = login\n",
    "        self.set_password(password)\n",
    "\n",
    "    def set_password(self, password):\n",
    "        self.password = encrypt(password)\n",
    "\n",
    "    def get_password(self, password):\n",
    "        return decrypt(self.password)\n",
    "\n",
    "    def __str__(self): #обратите внимание на self\n",
    "        return self.login"
   ]
  },
  {
   "cell_type": "markdown",
   "metadata": {
    "slideshow": {
     "slide_type": "slide"
    }
   },
   "source": [
    "3\\. **Наследование**: можно создавать специализированные классы на основе базовых. Это позволяет нам избегать написания повторного кода.  \n",
    "Представим, что нам нужно создать одного обычного пользователя и одного пользователя модератора.\n",
    "Модератор имеет все те же данные, что и обычный пользователь (логин, пароль) плюс данные, которых не имеет обычный пользователь (раздел модерации). \n",
    "Чтобы не добавлять в класс User поля, которые нужны только модераторам, логично создать новый класс: Moderator.\n",
    "Python позволяет классу Moderator наследоваться от User, а значит перенять все его свойства и при необходимости переопределить их."
   ]
  },
  {
   "cell_type": "code",
   "execution_count": 11,
   "metadata": {
    "collapsed": true,
    "slideshow": {
     "slide_type": "subslide"
    }
   },
   "outputs": [],
   "source": [
    "def encrypt(password):\n",
    "    return password\n",
    "\n",
    "def decrypt(password):\n",
    "    return password\n",
    "\n",
    "class User():\n",
    "    user_type = \"Regular\"\n",
    "    def __init__(self, login, password):\n",
    "        self.login = login\n",
    "        self.set_password(password)\n",
    "\n",
    "    def set_password(self, password):\n",
    "        self.password = encrypt(password)\n",
    "\n",
    "    def get_password(self, password):\n",
    "        return decrypt(self.password)\n",
    "    \n",
    "    def __str__(self):\n",
    "        return self.login"
   ]
  },
  {
   "cell_type": "markdown",
   "metadata": {
    "slideshow": {
     "slide_type": "notes"
    }
   },
   "source": [
    "Создадим новый класс, который будет наследовать свойства класса `User`"
   ]
  },
  {
   "cell_type": "code",
   "execution_count": 18,
   "metadata": {
    "collapsed": true,
    "slideshow": {
     "slide_type": "subslide"
    }
   },
   "outputs": [],
   "source": [
    "class Moderator(User): \n",
    "    user_type = \"Moderator\"\n",
    "\n",
    "    def __init__(self, login, password, forum_part):\n",
    "        User.__init__(self, login, password)  # Сначала инициализируем базовый класс\n",
    "        self.forum_part = forum_part\n",
    "\n",
    "    def __str__(self):  # обратите внимание на self\n",
    "        return  self.login + ' moderator of ' + self.forum_part"
   ]
  },
  {
   "cell_type": "markdown",
   "metadata": {
    "slideshow": {
     "slide_type": "notes"
    }
   },
   "source": [
    "В скобках пишем имя класса, от которого наследуется данный класс\n",
    "на самом деле когда мы не пишем ничего в скобках применяется наследование от базового класса, который и содержит __str__, __init__ и прочее.\n",
    "Модератор так же наследует все методы Юзера такие как set_password, get_password. "
   ]
  },
  {
   "cell_type": "code",
   "execution_count": 12,
   "metadata": {
    "collapsed": true,
    "slideshow": {
     "slide_type": "subslide"
    }
   },
   "outputs": [],
   "source": [
    "login = 'boris'\n",
    "password = '12345'\n",
    "first_user = User(login, password)\n",
    "\n",
    "login = 'kolya'\n",
    "password = '54321'\n",
    "forum_part = 'flood'\n",
    "second_user = Moderator(login, password, forum_part)"
   ]
  },
  {
   "cell_type": "code",
   "execution_count": 13,
   "metadata": {
    "slideshow": {
     "slide_type": "fragment"
    }
   },
   "outputs": [
    {
     "name": "stdout",
     "output_type": "stream",
     "text": [
      "User and moderator with __str__:\n",
      " boris \n",
      " kolya\n"
     ]
    }
   ],
   "source": [
    "print(f\"User and moderator with __str__:\\n {str(first_user)} \\n {str(second_user)}\")"
   ]
  },
  {
   "cell_type": "markdown",
   "metadata": {
    "slideshow": {
     "slide_type": "notes"
    }
   },
   "source": [
    "Коля получил повышение до модератора"
   ]
  },
  {
   "cell_type": "code",
   "execution_count": 15,
   "metadata": {
    "slideshow": {
     "slide_type": "fragment"
    }
   },
   "outputs": [
    {
     "name": "stdout",
     "output_type": "stream",
     "text": [
      "User and moderator logins: boris and kolya\n"
     ]
    }
   ],
   "source": [
    "print(f\"User and moderator logins: {first_user.login} and {second_user.login}\")"
   ]
  },
  {
   "cell_type": "markdown",
   "metadata": {
    "slideshow": {
     "slide_type": "notes"
    }
   },
   "source": [
    "Однако у Коли так же есть поле логин, хотя мы его и не обозначали в его конструкторе явно"
   ]
  },
  {
   "cell_type": "code",
   "execution_count": 16,
   "metadata": {
    "slideshow": {
     "slide_type": "fragment"
    }
   },
   "outputs": [
    {
     "name": "stdout",
     "output_type": "stream",
     "text": [
      "User and moderator user types: Regular and Regular\n"
     ]
    }
   ],
   "source": [
    "print(f\"User and moderator user types: {first_user.user_type} and {second_user.user_type}\")"
   ]
  },
  {
   "cell_type": "markdown",
   "metadata": {
    "slideshow": {
     "slide_type": "notes"
    }
   },
   "source": [
    "Типы пользователей разные\n",
    "\n",
    "------\n",
    "\n",
    "Если нам надо узнать какого типа наш пользователь стоит воспользоваться `isinstance`"
   ]
  },
  {
   "cell_type": "code",
   "execution_count": 19,
   "metadata": {
    "slideshow": {
     "slide_type": "subslide"
    }
   },
   "outputs": [
    {
     "name": "stdout",
     "output_type": "stream",
     "text": [
      "No moderators!\n"
     ]
    }
   ],
   "source": [
    "if isinstance(first_user, Moderator):\n",
    "    print(\"First user is a moderator!\")\n",
    "elif isinstance(second_user, Moderator):\n",
    "    print(\"Second user is a moderator!\")\n",
    "else:\n",
    "    print(\"No moderators!\")"
   ]
  },
  {
   "cell_type": "markdown",
   "metadata": {
    "slideshow": {
     "slide_type": "slide"
    }
   },
   "source": [
    "4\\. **Композиция**: объект может быть составным и включать в себя другие объекты.\n",
    "\n",
    "------"
   ]
  },
  {
   "cell_type": "markdown",
   "metadata": {
    "collapsed": true,
    "slideshow": {
     "slide_type": "slide"
    }
   },
   "source": [
    "## Особенности ООП в Python:\n",
    "1. множественное наследование;\n",
    "2. производный класс может переопределить любые методы базовых классов;\n",
    "3. в любом месте можно вызвать метод с тем же именем базового класса;\n",
    "4. все атрибуты класса в питоне по умолчанию являются public, т.е. доступны отовсюду; все методы — виртуальные, т.е. перегружают базовые.\n",
    "\n",
    "Источники: \n",
    "+ [Объектно-ориентированное программирование. Общее представление](http://pythonworld.ru/osnovy/obektno-orientirovannoe-programmirovanie-obshhee-predstavlenie.html)\n",
    "+ [Improve Your Python: Python Classes and Object Oriented Programming](https://jeffknupp.com/blog/2014/06/18/improve-your-python-python-classes-and-object-oriented-programming/)\n",
    "+ [Object Oriented Programming](http://anandology.com/python-practice-book/object_oriented_programming.html)\n",
    "+ [Object Oriented Programming](http://www.python-course.eu/object_oriented_programming.php)\n",
    "+ [Служебные методы, операторы и другое](http://pythonworld.ru/osnovy/peregruzka-operatorov.html)\n",
    "\n",
    "## Домашнее задание       \n",
    "\n",
    "1. [GUI для парсера `#18`](https://github.com/lambdafrela/parser/issues/18)\n",
    "2. [Парсинг авторов `#19`](https://github.com/lambdafrela/parser/issues/19)\n",
    "3. [Различные источники `#20`](https://github.com/lambdafrela/parser/issues/20)\n",
    "4. [ООП-стиль `#21`](https://github.com/lambdafrela/parser/issues/21)"
   ]
  }
 ],
 "metadata": {
  "anaconda-cloud": {},
  "celltoolbar": "Slideshow",
  "kernelspec": {
   "display_name": "Python 3",
   "language": "python",
   "name": "python3"
  },
  "language_info": {
   "codemirror_mode": {
    "name": "ipython",
    "version": 3
   },
   "file_extension": ".py",
   "mimetype": "text/x-python",
   "name": "python",
   "nbconvert_exporter": "python",
   "pygments_lexer": "ipython3",
   "version": "3.6.1"
  }
 },
 "nbformat": 4,
 "nbformat_minor": 1
}
