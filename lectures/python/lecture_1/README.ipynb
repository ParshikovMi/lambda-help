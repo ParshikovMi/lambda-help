{
 "cells": [
  {
   "cell_type": "markdown",
   "metadata": {
    "slideshow": {
     "slide_type": "slide"
    }
   },
   "source": [
    "![](pics/presentation.png)"
   ]
  },
  {
   "cell_type": "markdown",
   "metadata": {
    "slideshow": {
     "slide_type": "slide"
    }
   },
   "source": [
    "# Python - немного истории"
   ]
  },
  {
   "cell_type": "markdown",
   "metadata": {
    "slideshow": {
     "slide_type": "subslide"
    }
   },
   "source": [
    "## Гвидо Ван Россум\n",
    "\n",
    "![](https://upload.wikimedia.org/wikipedia/commons/thumb/d/da/Guido-portrait-2014.jpg/640px-Guido-portrait-2014.jpg)\n",
    "\n",
    "> Over six years ago, in December 1989, I was looking for a \"hobby\" programming project that would keep me occupied during the week around Christmas. My office ... would be closed, but I had a home computer, and not much else on my hands. I decided to write an interpreter for the new scripting language I had been thinking about lately...\n"
   ]
  },
  {
   "cell_type": "markdown",
   "metadata": {
    "slideshow": {
     "slide_type": "subslide"
    }
   },
   "source": [
    "## Идейный вдохновитель - ABC\n",
    "\n",
    "```ABC\n",
    "HOW TO RETURN words document:\n",
    "   PUT {} IN collection\n",
    "   FOR line IN document:\n",
    "      FOR word IN split line:\n",
    "         IF word not.in collection:\n",
    "            INSERT word IN collection\n",
    "   RETURN collection\n",
    "```"
   ]
  },
  {
   "cell_type": "markdown",
   "metadata": {
    "slideshow": {
     "slide_type": "subslide"
    }
   },
   "source": [
    "## Цель\n",
    "\n",
    "- создать простой, понятный, удобный и полезный язык\n",
    "- пример функции:\n",
    "```python\n",
    "def magic(dir):\n",
    "    acc = []\n",
    "    for root, dirs, files in os.walk(dir):\n",
    "        acc.extend(os.path.join(root, file) for file in files)\n",
    "    return acc\n",
    "```\n",
    "- что делает эта функция?"
   ]
  },
  {
   "cell_type": "code",
   "execution_count": 5,
   "metadata": {
    "slideshow": {
     "slide_type": "subslide"
    }
   },
   "outputs": [
    {
     "data": {
      "text/plain": [
       "['.\\\\custom.css',\n",
       " '.\\\\README.ipynb',\n",
       " '.\\\\README.md',\n",
       " '.\\\\README.slides.html',\n",
       " '.\\\\.ipynb_checkpoints\\\\README-checkpoint.ipynb',\n",
       " '.\\\\pics\\\\1.png',\n",
       " '.\\\\pics\\\\presentation.png']"
      ]
     },
     "execution_count": 5,
     "metadata": {},
     "output_type": "execute_result"
    }
   ],
   "source": [
    "import os\n",
    "def magic(dir):\n",
    "    acc = []\n",
    "    for root, dirs, files in os.walk(dir):\n",
    "        acc.extend(os.path.join(root, file) for file in files)\n",
    "    return acc\n",
    "magic('.')"
   ]
  },
  {
   "cell_type": "markdown",
   "metadata": {
    "slideshow": {
     "slide_type": "subslide"
    }
   },
   "source": [
    "## 2.x VS 3.x\n",
    "\n",
    "- Python 2.x находится в режиме поддержки, обновлений выходить не будет\n",
    "    - достоинства\n",
    "        - штабильно\n",
    "        - громадное количество библиотек\n",
    "        - `print \"hello world\"`\n",
    "    - недостатки\n",
    "        - содержит много костылей, исправить которые, не нарушив работу системы нельзя\n",
    "        - строки и символы изначально кодируются в байткод\n",
    "        - **ЛЕГАСИ**\n",
    "\n",
    "\n",
    "- Python 3.x - в режиме активной разработки\n",
    "    - достоинства\n",
    "        - все строки ялвяются Unicode объектами\n",
    "        - упрощены некоторые конструкции методов\n",
    "        - бОльшая часть элементов языка стала объектами (например, `map` по версии 2.x - `list`, по версии 3.x - `map object`)\n",
    "    - недостатки\n",
    "        - не все библиотеки портированы с 2.x\n",
    "\n",
    "В наших проектах будем использовать Python 3.x (3.4 - 3.6 котируются), для упрощения процедуры поддержки кода"
   ]
  },
  {
   "cell_type": "markdown",
   "metadata": {
    "slideshow": {
     "slide_type": "subslide"
    }
   },
   "source": [
    "## _Let the Holywar begin!_\n",
    "\n",
    "![](https://www.emacswiki.org/pics/static/TabsSpacesBoth.png)"
   ]
  },
  {
   "cell_type": "markdown",
   "metadata": {
    "slideshow": {
     "slide_type": "slide"
    }
   },
   "source": [
    "# Запуск программы"
   ]
  },
  {
   "cell_type": "markdown",
   "metadata": {
    "slideshow": {
     "slide_type": "fragment"
    }
   },
   "source": [
    "## Интерактивный режим\n",
    "\n",
    "### IDLE\n",
    "\n",
    "![](pics/idle.png)"
   ]
  },
  {
   "cell_type": "markdown",
   "metadata": {
    "slideshow": {
     "slide_type": "subslide"
    }
   },
   "source": [
    "### Консоль\n",
    "\n",
    "1. открыть консоль\n",
    "2. `python` (для пользователей Ubuntu - `python3`)\n",
    "\n",
    "![](pics/python_console.png)"
   ]
  },
  {
   "cell_type": "markdown",
   "metadata": {
    "slideshow": {
     "slide_type": "subslide"
    }
   },
   "source": [
    "## Из скрипта `.py`\n",
    "\n",
    "1. открыть консоль\n",
    "2. `cd <пусть\\к\\папке\\с\\файлом>`\n",
    "3. `python my_program.py`\n",
    "    - для пользователей Ubuntu/Debian: `python3 my_program.py`\n",
    "    \n",
    "![](pics/script.png)"
   ]
  },
  {
   "cell_type": "markdown",
   "metadata": {
    "slideshow": {
     "slide_type": "slide"
    }
   },
   "source": [
    "# Ввод/вывод"
   ]
  },
  {
   "cell_type": "code",
   "execution_count": 7,
   "metadata": {
    "slideshow": {
     "slide_type": "fragment"
    }
   },
   "outputs": [
    {
     "name": "stdout",
     "output_type": "stream",
     "text": [
      "42\n",
      "42\n"
     ]
    }
   ],
   "source": [
    "my_variable = input() # ввод данных с клавиатуры (или через стандартный ввод stdin)\n",
    "\n",
    "print(my_variable) # вывод данных в стандартный вывод stdout"
   ]
  },
  {
   "cell_type": "markdown",
   "metadata": {
    "slideshow": {
     "slide_type": "fragment"
    }
   },
   "source": [
    "Присвоение значений переменным может производиться в одну строчку через запятую (как в учебниках по матану, с последующим \"соответственно\")"
   ]
  },
  {
   "cell_type": "code",
   "execution_count": 10,
   "metadata": {
    "slideshow": {
     "slide_type": "fragment"
    }
   },
   "outputs": [
    {
     "name": "stdout",
     "output_type": "stream",
     "text": [
      "34\n",
      "45\n",
      "34 45 no\n"
     ]
    }
   ],
   "source": [
    "coords, speed, velocity = input(), input(), 'no'\n",
    "print(coords, speed, velocity)"
   ]
  },
  {
   "cell_type": "markdown",
   "metadata": {
    "slideshow": {
     "slide_type": "subslide"
    }
   },
   "source": [
    "Хитрые способы присваивания позволяют творить и вот такие финты\n",
    "\n",
    "![](https://lh3.googleusercontent.com/-xK8aBnTPKTM/VmCNqZ6GSsI/AAAAAAAAAio/dil0Ro58b4w/w506-h750/IMG_0949.JPG)"
   ]
  },
  {
   "cell_type": "markdown",
   "metadata": {
    "slideshow": {
     "slide_type": "slide"
    }
   },
   "source": [
    "# Некоторые стандартные типы данных\n",
    "\n",
    "- числовые\n",
    "    - целые числа `int` - 5\n",
    "    - вещественные числа (с плавающей точкой) `float` - 5.0\n",
    "    - логические `bool` - True/False\n",
    "- строковые\n",
    "    - строки `str`\n",
    "    \n",
    "### чтобы узнать тип переменной (объекта) - `type(x)`"
   ]
  },
  {
   "cell_type": "markdown",
   "metadata": {
    "slideshow": {
     "slide_type": "subslide"
    }
   },
   "source": [
    "## Преобразование типов\n",
    "\n",
    "- `int(x)` - преобразование к целому числу"
   ]
  },
  {
   "cell_type": "code",
   "execution_count": 20,
   "metadata": {
    "slideshow": {
     "slide_type": "-"
    }
   },
   "outputs": [
    {
     "data": {
      "text/plain": [
       "2"
      ]
     },
     "execution_count": 20,
     "metadata": {},
     "output_type": "execute_result"
    }
   ],
   "source": [
    "int(2.3)"
   ]
  },
  {
   "cell_type": "markdown",
   "metadata": {
    "slideshow": {
     "slide_type": "-"
    }
   },
   "source": [
    "- `float(x)` - преобразование к числу с плавающей точкой"
   ]
  },
  {
   "cell_type": "code",
   "execution_count": 21,
   "metadata": {
    "slideshow": {
     "slide_type": "-"
    }
   },
   "outputs": [
    {
     "data": {
      "text/plain": [
       "5.0"
      ]
     },
     "execution_count": 21,
     "metadata": {},
     "output_type": "execute_result"
    }
   ],
   "source": [
    "float(5)    "
   ]
  },
  {
   "cell_type": "markdown",
   "metadata": {
    "slideshow": {
     "slide_type": "subslide"
    }
   },
   "source": [
    "### _task 1_\n",
    "вычислить выражение\n",
    "```python\n",
    "9**19 - int(float(9**19))\n",
    "```"
   ]
  },
  {
   "cell_type": "markdown",
   "metadata": {
    "slideshow": {
     "slide_type": "slide"
    }
   },
   "source": [
    "# Мотан"
   ]
  },
  {
   "cell_type": "markdown",
   "metadata": {
    "slideshow": {
     "slide_type": "fragment"
    }
   },
   "source": [
    "- базовые операторы"
   ]
  },
  {
   "cell_type": "code",
   "execution_count": 11,
   "metadata": {
    "slideshow": {
     "slide_type": "-"
    }
   },
   "outputs": [
    {
     "name": "stdout",
     "output_type": "stream",
     "text": [
      "66\n",
      "-55\n",
      "294\n"
     ]
    }
   ],
   "source": [
    "print(42 + 24) # сложение\n",
    "print(45 - 100) # вычитание\n",
    "print(3 * 98) # умножение"
   ]
  },
  {
   "cell_type": "markdown",
   "metadata": {
    "slideshow": {
     "slide_type": "fragment"
    }
   },
   "source": [
    "- оператор деления"
   ]
  },
  {
   "cell_type": "code",
   "execution_count": 13,
   "metadata": {
    "slideshow": {
     "slide_type": "-"
    }
   },
   "outputs": [
    {
     "name": "stdout",
     "output_type": "stream",
     "text": [
      "2.3333333333333335\n",
      "2\n",
      "1\n"
     ]
    }
   ],
   "source": [
    "print(7 / 3) # дробный результат деления\n",
    "print(7 // 3) # целочисленный результат деления (аналог div в pascal)\n",
    "print(7 % 3) # остаток от деления (аналог mod в pascal)"
   ]
  },
  {
   "cell_type": "markdown",
   "metadata": {
    "slideshow": {
     "slide_type": "fragment"
    }
   },
   "source": [
    "- возведение в степень"
   ]
  },
  {
   "cell_type": "code",
   "execution_count": 14,
   "metadata": {
    "slideshow": {
     "slide_type": "-"
    }
   },
   "outputs": [
    {
     "name": "stdout",
     "output_type": "stream",
     "text": [
      "256\n"
     ]
    }
   ],
   "source": [
    "print(2 ** 8)"
   ]
  },
  {
   "cell_type": "markdown",
   "metadata": {
    "slideshow": {
     "slide_type": "subslide"
    }
   },
   "source": [
    "### _task 2_\n",
    "\n",
    "Допустим, нам нужно проанализировать математическую модель, описывающую движение тела, подброшенного вертикально вверх:\n",
    "$$y(t) = v_0 t - \\frac{gt^2}{2}$$\n",
    "\n",
    "написать алгоритм, принимающий значение $t$ при заданных $g = 9.81$ и $v_0 = 5$, чтобы найти координату $y$"
   ]
  },
  {
   "cell_type": "code",
   "execution_count": 8,
   "metadata": {
    "slideshow": {
     "slide_type": "fragment"
    }
   },
   "outputs": [
    {
     "name": "stdout",
     "output_type": "stream",
     "text": [
      "1\n",
      "0.09499999999999975\n"
     ]
    }
   ],
   "source": [
    "# решение\n",
    "v0 = 5\n",
    "g = 9.81\n",
    "t = float(input())\n",
    "\n",
    "y = v0 * t - (1/2) * g * t**2\n",
    "print(y)"
   ]
  },
  {
   "cell_type": "markdown",
   "metadata": {
    "slideshow": {
     "slide_type": "slide"
    }
   },
   "source": [
    "# Строки\n",
    "\n",
    "Строки могут быть:\n",
    "\n",
    "- однострочными:"
   ]
  },
  {
   "cell_type": "code",
   "execution_count": 12,
   "metadata": {
    "slideshow": {
     "slide_type": "-"
    }
   },
   "outputs": [
    {
     "name": "stdout",
     "output_type": "stream",
     "text": [
      "wow, such little code here\n"
     ]
    }
   ],
   "source": [
    "not_very_long_string = 'wow, such little code here'\n",
    "\n",
    "print(not_very_long_string)"
   ]
  },
  {
   "cell_type": "markdown",
   "metadata": {
    "slideshow": {
     "slide_type": "subslide"
    }
   },
   "source": [
    "- однострочными с переносами при помощи символа `\\n`:"
   ]
  },
  {
   "cell_type": "code",
   "execution_count": 13,
   "metadata": {
    "slideshow": {
     "slide_type": "-"
    }
   },
   "outputs": [
    {
     "name": "stdout",
     "output_type": "stream",
     "text": [
      "wow, \n",
      "such little \n",
      "code here\n"
     ]
    }
   ],
   "source": [
    "not_very_long_string = 'wow, \\nsuch little \\ncode here'\n",
    "\n",
    "print(not_very_long_string)"
   ]
  },
  {
   "cell_type": "markdown",
   "metadata": {
    "slideshow": {
     "slide_type": "subslide"
    }
   },
   "source": [
    "- или просто многострочными:"
   ]
  },
  {
   "cell_type": "code",
   "execution_count": 10,
   "metadata": {
    "slideshow": {
     "slide_type": "-"
    }
   },
   "outputs": [
    {
     "name": "stdout",
     "output_type": "stream",
     "text": [
      "wow, \n",
      "such little \n",
      "code here\n"
     ]
    }
   ],
   "source": [
    "very_long_string = \"\"\"wow, \n",
    "such little \n",
    "code here\"\"\"\n",
    "\n",
    "print(very_long_string)"
   ]
  },
  {
   "cell_type": "markdown",
   "metadata": {
    "slideshow": {
     "slide_type": "subslide"
    }
   },
   "source": [
    "## Форматирование текста и чисел\n",
    "\n",
    "Для версии 3.x существует 6 разных способов вывода строки, содержащую значения переменных. Рассмотрим основные:"
   ]
  },
  {
   "cell_type": "code",
   "execution_count": 14,
   "metadata": {
    "slideshow": {
     "slide_type": "fragment"
    }
   },
   "outputs": [
    {
     "data": {
      "text/plain": [
       "'spam = blah, eggs = 2'"
      ]
     },
     "execution_count": 14,
     "metadata": {},
     "output_type": "execute_result"
    }
   ],
   "source": [
    "\"spam = {0}, eggs = {1}\".format(\"blah\", 2)"
   ]
  },
  {
   "cell_type": "code",
   "execution_count": 18,
   "metadata": {
    "slideshow": {
     "slide_type": "fragment"
    }
   },
   "outputs": [
    {
     "name": "stdout",
     "output_type": "stream",
     "text": [
      "man = 42, woman = 31\n"
     ]
    }
   ],
   "source": [
    "# python >3.6 only\n",
    "man_age = 42\n",
    "woman_age = 31\n",
    "\n",
    "print(f'man = {man_age}, woman = {woman_age}')"
   ]
  },
  {
   "cell_type": "code",
   "execution_count": 19,
   "metadata": {
    "slideshow": {
     "slide_type": "fragment"
    }
   },
   "outputs": [
    {
     "data": {
      "text/plain": [
       "'spam = blah, eggs = 2'"
      ]
     },
     "execution_count": 19,
     "metadata": {},
     "output_type": "execute_result"
    }
   ],
   "source": [
    "\"spam = %s, eggs = %d\" % (\"blah\", 2)"
   ]
  },
  {
   "cell_type": "markdown",
   "metadata": {
    "slideshow": {
     "slide_type": "fragment"
    }
   },
   "source": [
    "| флаг \t| описание                                                \t|\n",
    "|------\t|---------------------------------------------------------\t|\n",
    "|  %s  \t| строка                                                  \t|\n",
    "|  %d  \t| целое число                                             \t|\n",
    "|  %f  \t| десятичное представление с шестью знаками после запятой \t|\n",
    "|  %e  \t| \"научное\" представление                                 \t|\n",
    "|  %g  \t| компактное представление десятичного числа              \t|\n",
    "|  %%  \t| вывод знака процента                                    \t|"
   ]
  },
  {
   "cell_type": "markdown",
   "metadata": {
    "slideshow": {
     "slide_type": "subslide"
    }
   },
   "source": [
    "## _\"математические\"_ операции со строками"
   ]
  },
  {
   "cell_type": "markdown",
   "metadata": {
    "slideshow": {
     "slide_type": "fragment"
    }
   },
   "source": [
    "- конкатенация:"
   ]
  },
  {
   "cell_type": "code",
   "execution_count": 34,
   "metadata": {},
   "outputs": [
    {
     "data": {
      "text/plain": [
       "'loremipsum'"
      ]
     },
     "execution_count": 34,
     "metadata": {},
     "output_type": "execute_result"
    }
   ],
   "source": [
    "'lorem' + 'ipsum'"
   ]
  },
  {
   "cell_type": "markdown",
   "metadata": {
    "slideshow": {
     "slide_type": "fragment"
    }
   },
   "source": [
    "- умножение:"
   ]
  },
  {
   "cell_type": "code",
   "execution_count": 35,
   "metadata": {},
   "outputs": [
    {
     "data": {
      "text/plain": [
       "'lorem ipsum lorem ipsum lorem ipsum '"
      ]
     },
     "execution_count": 35,
     "metadata": {},
     "output_type": "execute_result"
    }
   ],
   "source": [
    "'lorem ipsum ' * 3"
   ]
  },
  {
   "cell_type": "markdown",
   "metadata": {
    "slideshow": {
     "slide_type": "fragment"
    }
   },
   "source": [
    "- сравнение по значению (аналог `.equals()` в Java)"
   ]
  },
  {
   "cell_type": "code",
   "execution_count": 36,
   "metadata": {},
   "outputs": [
    {
     "data": {
      "text/plain": [
       "True"
      ]
     },
     "execution_count": 36,
     "metadata": {},
     "output_type": "execute_result"
    }
   ],
   "source": [
    "'lorem ipsum' == 'lorem ipsum'"
   ]
  },
  {
   "cell_type": "code",
   "execution_count": 37,
   "metadata": {},
   "outputs": [
    {
     "data": {
      "text/plain": [
       "False"
      ]
     },
     "execution_count": 37,
     "metadata": {},
     "output_type": "execute_result"
    }
   ],
   "source": [
    "'lorem ipsum' == 'hello world'"
   ]
  },
  {
   "cell_type": "markdown",
   "metadata": {
    "slideshow": {
     "slide_type": "slide"
    }
   },
   "source": [
    "# Логика"
   ]
  },
  {
   "cell_type": "markdown",
   "metadata": {
    "slideshow": {
     "slide_type": "subslide"
    }
   },
   "source": [
    "## Операторы сравнения"
   ]
  },
  {
   "cell_type": "code",
   "execution_count": 19,
   "metadata": {
    "slideshow": {
     "slide_type": "-"
    }
   },
   "outputs": [
    {
     "name": "stdout",
     "output_type": "stream",
     "text": [
      "True\n",
      "False\n",
      "True\n",
      "False\n",
      "False\n"
     ]
    }
   ],
   "source": [
    "C = 40\n",
    "\n",
    "print(C == 40)  # C равно 40\n",
    "print(C != 40)  # C не равно 40\n",
    "print(C >= 40)  # C больше или равно 40\n",
    "print(C >  40)  # C больше 40\n",
    "print(C <  40)  # C меньше 40"
   ]
  },
  {
   "cell_type": "markdown",
   "metadata": {
    "slideshow": {
     "slide_type": "subslide"
    }
   },
   "source": [
    "## Логические выражения"
   ]
  },
  {
   "cell_type": "code",
   "execution_count": 27,
   "metadata": {
    "slideshow": {
     "slide_type": "-"
    }
   },
   "outputs": [
    {
     "data": {
      "text/plain": [
       "False"
      ]
     },
     "execution_count": 27,
     "metadata": {},
     "output_type": "execute_result"
    }
   ],
   "source": [
    "x = 0; y = 1.2\n",
    "x >= 0 and y < 1"
   ]
  },
  {
   "cell_type": "code",
   "execution_count": 28,
   "metadata": {
    "slideshow": {
     "slide_type": "-"
    }
   },
   "outputs": [
    {
     "data": {
      "text/plain": [
       "True"
      ]
     },
     "execution_count": 28,
     "metadata": {},
     "output_type": "execute_result"
    }
   ],
   "source": [
    "x >= 0 or y < 1"
   ]
  },
  {
   "cell_type": "code",
   "execution_count": 29,
   "metadata": {
    "slideshow": {
     "slide_type": "-"
    }
   },
   "outputs": [
    {
     "data": {
      "text/plain": [
       "False"
      ]
     },
     "execution_count": 29,
     "metadata": {},
     "output_type": "execute_result"
    }
   ],
   "source": [
    "x > 0 or not y > 1"
   ]
  },
  {
   "cell_type": "code",
   "execution_count": 30,
   "metadata": {
    "slideshow": {
     "slide_type": "-"
    }
   },
   "outputs": [
    {
     "data": {
      "text/plain": [
       "False"
      ]
     },
     "execution_count": 30,
     "metadata": {},
     "output_type": "execute_result"
    }
   ],
   "source": [
    "not (x > 0 or y > 0)"
   ]
  },
  {
   "cell_type": "markdown",
   "metadata": {
    "slideshow": {
     "slide_type": "slide"
    }
   },
   "source": [
    "# Условные операторы\n",
    "\n",
    "## if - else"
   ]
  },
  {
   "cell_type": "code",
   "execution_count": 23,
   "metadata": {
    "slideshow": {
     "slide_type": "fragment"
    }
   },
   "outputs": [
    {
     "name": "stdout",
     "output_type": "stream",
     "text": [
      "Четное\n"
     ]
    }
   ],
   "source": [
    "x = 14\n",
    "if x % 2 == 0:\n",
    "    print('Четное')\n",
    "else:\n",
    "    print('Нечетное')"
   ]
  },
  {
   "cell_type": "markdown",
   "metadata": {
    "slideshow": {
     "slide_type": "subslide"
    }
   },
   "source": [
    "## много условий\n",
    "\n",
    "```python\n",
    "if statement_1:\n",
    "    expression_1\n",
    "elif statement_2:\n",
    "    expression_2\n",
    "else:\n",
    "    expression_3\n",
    "```"
   ]
  },
  {
   "cell_type": "markdown",
   "metadata": {
    "slideshow": {
     "slide_type": "subslide"
    }
   },
   "source": [
    "## тернарный оператор"
   ]
  },
  {
   "cell_type": "code",
   "execution_count": 24,
   "metadata": {
    "slideshow": {
     "slide_type": "-"
    }
   },
   "outputs": [
    {
     "data": {
      "text/plain": [
       "'четное'"
      ]
     },
     "execution_count": 24,
     "metadata": {},
     "output_type": "execute_result"
    }
   ],
   "source": [
    "\"четное\" if x % 2 == 0 else \"нечетное\""
   ]
  },
  {
   "cell_type": "markdown",
   "metadata": {
    "slideshow": {
     "slide_type": "subslide"
    }
   },
   "source": [
    "## _task 3_\n",
    "\n",
    "Требуется определить, является ли данный год високосным.\n",
    "\n",
    "Напомним, что високосными годами считаются те годы, порядковый номер которых либо кратен 4, но при этом не кратен 100, либо кратен 400 (например, 2000-й год являлся високосным, а 2100-й будет невисокосным годом). \n",
    "\n",
    "Программа должна корректно работать на числах $1900 \\leqslant n \\leqslant 3000$.\n",
    "\n",
    "Выведите \"__Високосный__\" в случае, если считанный год является високосным и \"__Обычный__\" в обратном случае (не забывайте проверять регистр выводимых программой символов)."
   ]
  },
  {
   "cell_type": "code",
   "execution_count": 38,
   "metadata": {
    "slideshow": {
     "slide_type": "fragment"
    }
   },
   "outputs": [
    {
     "name": "stdout",
     "output_type": "stream",
     "text": [
      "2100\n",
      "Обычный\n"
     ]
    }
   ],
   "source": [
    "year = int(input())\n",
    "\n",
    "if ((year % 4 == 0) and (year % 100 != 0)) or (year % 400 == 0):\n",
    "    print('Високосный')\n",
    "else:\n",
    "    print('Обычный')"
   ]
  },
  {
   "cell_type": "markdown",
   "metadata": {
    "slideshow": {
     "slide_type": "slide"
    }
   },
   "source": [
    "# Функции\n",
    "\n",
    "Простейший пример:"
   ]
  },
  {
   "cell_type": "code",
   "execution_count": 26,
   "metadata": {
    "slideshow": {
     "slide_type": "fragment"
    }
   },
   "outputs": [
    {
     "data": {
      "text/plain": [
       "42"
      ]
     },
     "execution_count": 26,
     "metadata": {},
     "output_type": "execute_result"
    }
   ],
   "source": [
    "def foo():\n",
    "    return 42\n",
    "\n",
    "foo()"
   ]
  },
  {
   "cell_type": "markdown",
   "metadata": {
    "slideshow": {
     "slide_type": "fragment"
    }
   },
   "source": [
    "если не используется `return`, функция по умолчанию возвращает `None`:"
   ]
  },
  {
   "cell_type": "code",
   "execution_count": 27,
   "metadata": {
    "slideshow": {
     "slide_type": "-"
    }
   },
   "outputs": [
    {
     "name": "stdout",
     "output_type": "stream",
     "text": [
      "None\n"
     ]
    }
   ],
   "source": [
    "def foo():\n",
    "    42\n",
    "print(foo())"
   ]
  },
  {
   "cell_type": "markdown",
   "metadata": {
    "slideshow": {
     "slide_type": "subslide"
    }
   },
   "source": [
    "## Передача аргументов"
   ]
  },
  {
   "cell_type": "code",
   "execution_count": 39,
   "metadata": {
    "collapsed": true
   },
   "outputs": [],
   "source": [
    "def min(x, y):\n",
    "    return x if x < y else y"
   ]
  },
  {
   "cell_type": "code",
   "execution_count": 40,
   "metadata": {
    "slideshow": {
     "slide_type": "fragment"
    }
   },
   "outputs": [
    {
     "data": {
      "text/plain": [
       "-5"
      ]
     },
     "execution_count": 40,
     "metadata": {},
     "output_type": "execute_result"
    }
   ],
   "source": [
    "min(-5, 12)"
   ]
  },
  {
   "cell_type": "code",
   "execution_count": 42,
   "metadata": {
    "slideshow": {
     "slide_type": "fragment"
    }
   },
   "outputs": [
    {
     "data": {
      "text/plain": [
       "-5"
      ]
     },
     "execution_count": 42,
     "metadata": {},
     "output_type": "execute_result"
    }
   ],
   "source": [
    "min(x=12, y=-5)"
   ]
  },
  {
   "cell_type": "markdown",
   "metadata": {
    "slideshow": {
     "slide_type": "subslide"
    }
   },
   "source": [
    "### _task 4_\n",
    "\n",
    "Напишите функцию f(x), которая возвращает значение следующей функции, определённой на всей числовой прямой:\n",
    "\n",
    "$$f(x)= \\begin{cases}   1 - (x + 2)^2,\\quad &\\text{при  } x\\le -2\\\\  -\\frac x2 ,\\quad &\\text{при } -2 \\lt  x \\le 2\\\\   (x-2)^2 + 1,\\quad &\\text{при }  2 \\lt  x \\end{cases}$$\n",
    "\n",
    "| Ввод \t| Вывод \t|\n",
    "|------\t|-------\t|\n",
    "| 4.5  \t| 7.25  \t|\n",
    "| -4.5 \t| -5.25 \t|\n",
    "| 1    \t| -0.5  \t|"
   ]
  },
  {
   "cell_type": "code",
   "execution_count": 45,
   "metadata": {
    "slideshow": {
     "slide_type": "fragment"
    }
   },
   "outputs": [
    {
     "data": {
      "text/plain": [
       "-0.5"
      ]
     },
     "execution_count": 45,
     "metadata": {},
     "output_type": "execute_result"
    }
   ],
   "source": [
    "def f(x):\n",
    "    if x <= -2:\n",
    "        return(1-(x+2)**2)\n",
    "    if x > -2 and x <= 2:\n",
    "        return(-(x/2))\n",
    "    if x > 2:\n",
    "        return(((x-2)**2)+1)\n",
    "\n",
    "f(1)"
   ]
  },
  {
   "cell_type": "markdown",
   "metadata": {
    "slideshow": {
     "slide_type": "slide"
    }
   },
   "source": [
    "# ДЗ\n",
    "\n",
    "0. Выполнить таски из лекции (кто не сделал)\n",
    "1. Решить 11 задачек из модуля [String-1](http://codingbat.com/python/String-1) на **CodingBat**\n",
    "2. Отчитаться о выполнении в [#random'e](https://lambdafrela.slack.com/messages/random/)\n",
    "\n",
    "# Почитать\n",
    "\n",
    "- [Правила оформления Python кода на русском](https://pythonworld.ru/osnovy/pep-8-rukovodstvo-po-napisaniyu-koda-na-python.html), с которыми __необходимо__ ознакомитья и следовать 95% написанного.\n",
    "\n",
    "# Next episode...\n",
    "\n",
    "- списки, кортежи, словари\n",
    "- циклы\n",
    "- файлы\n",
    "- модули\n",
    "- немного функциональщины"
   ]
  }
 ],
 "metadata": {
  "celltoolbar": "Slideshow",
  "kernelspec": {
   "display_name": "Python 3",
   "language": "python",
   "name": "python3"
  },
  "language_info": {
   "codemirror_mode": {
    "name": "ipython",
    "version": 3
   },
   "file_extension": ".py",
   "mimetype": "text/x-python",
   "name": "python",
   "nbconvert_exporter": "python",
   "pygments_lexer": "ipython3",
   "version": "3.6.1"
  }
 },
 "nbformat": 4,
 "nbformat_minor": 1
}
